{
 "cells": [
  {
   "cell_type": "markdown",
   "metadata": {},
   "source": [
    "# Theorical Questions"
   ]
  },
  {
   "cell_type": "markdown",
   "metadata": {},
   "source": [
    "#### Q. Why a simple linear regression model (without any activation function) is not good for classification task, compared to Perceptron/Logistic regression?"
   ]
  },
  {
   "cell_type": "markdown",
   "metadata": {},
   "source": [
    "<b>A. </b>Linear Regression is responsible to solve regression problems. Regression in the terms of continous dependent variable is identified using a given set of individual variables. On the other hand, Logistic regression is responsible to perform the classification of data in a particular class of data.<br />\n",
    "\n",
    "Other points are as follows: <br />\n",
    "a) As regression might produce probabilities that could be less than 0, or even bigger than 1, logistic regression was introduced.<br />\n",
    "b) In linear regression, the outcome (dependent variable) is continuous. It can have any one of an infinite number of possible values. Whereas, in logistic regression, the outcome (dependent variable) has only a limited number of possible values.<br />\n",
    "c) Linear regression is used when your response variable is continuous. For instance, weight, height, number of hours, etc. whereas, Logistic regression is used when the response variable is categorical in nature. For instance, yes/no, true/false, red/green/blue, 1st/2nd/3rd/4th, etc.<br />"
   ]
  },
  {
   "cell_type": "markdown",
   "metadata": {},
   "source": [
    "#### Q. What's a decision tree and how it is different to a logistic regression model?"
   ]
  },
  {
   "cell_type": "markdown",
   "metadata": {},
   "source": [
    "<b>A.</b> Decision Trees (DTs) are a non-parametric supervised learning method used for classification and regression. The goal is to create a model that predicts the value of a target variable by learning simple decision rules inferred from the data features. A tree can be seen as a piecewise constant approximation. \n",
    "\n",
    "source: https://scikit-learn.org/stable/modules/tree.html\n",
    "\n",
    "Difference:\n",
    "a) Decision Trees bisect the space into smaller and smaller regions, whereas Logistic Regression fits a single line to divide the space exactly into two.\n",
    "b) When a tree consists of a large number of nodes, it can require a significant amount of mental effort to comprehend all the splits that lead up to a particular prediction. In contrast, a Logistic Regression model is simply a list of coefficients.\n",
    "c) Decision Trees handle skewed classes when compared to Logical Regression.\n",
    "d) Logistic Regression does not handle missing values; we need to impute those values by mean, mode, and median. If there are many missing values, then imputing those may not be a good idea, since we are changing the distribution of data by imputing mean everywhere. Decision Trees works with missing values."
   ]
  },
  {
   "cell_type": "markdown",
   "metadata": {},
   "source": [
    "#### Q. We discussed three variants of decision tree (single-tree) in our lecture, what are their differences?"
   ]
  },
  {
   "cell_type": "markdown",
   "metadata": {},
   "source": [
    "<b>A.</b> ID3 (Iterative Dichotomiser 3) was developed in 1986 by Ross Quinlan. The algorithm creates a multiway tree, finding for each node (i.e. in a greedy manner) the categorical feature that will yield the largest information gain for categorical targets. Trees are grown to their maximum size and then a pruning step is usually applied to improve the ability of the tree to generalise to unseen data.\n",
    "\n",
    "C4.5 is the successor to ID3 and removed the restriction that features must be categorical by dynamically defining a discrete attribute (based on numerical variables) that partitions the continuous attribute value into a discrete set of intervals. C4.5 converts the trained trees (i.e. the output of the ID3 algorithm) into sets of if-then rules. This accuracy of each rule is then evaluated to determine the order in which they should be applied. Pruning is done by removing a rule’s precondition if the accuracy of the rule improves without it.\n",
    "\n",
    "CART (Classification and Regression Trees) is very similar to C4.5, but it differs in that it supports numerical target variables (regression) and does not compute rule sets. CART constructs binary trees using the feature and threshold that yields the largest information gain at each node."
   ]
  },
  {
   "cell_type": "markdown",
   "metadata": {},
   "source": [
    "#### Q. What is the difference between the random forest model, and a bagging ensemble of CART models?"
   ]
  },
  {
   "cell_type": "markdown",
   "metadata": {},
   "source": [
    "<b>A.</b> The fundamental difference is that in Random forests, only a subset of features are selected at random out of the total and the best split feature from the subset is used to split each node in a tree, unlike in bagging where all features are considered for splitting a node.\n",
    "\n",
    "The concept of bagging is to train a bunch of unpruned decision trees on different random subsets of the training data, sampling with replacement. Whereas, the concept of random forests is to build multiple decision trees and aggregate them to get an accurate result with as little bias as possible.\n",
    "\n",
    "Bagging improves the accuracy and stability of the machine learning models using ensemble learning and reduces the complexity of overfitting models. While, the random forest algorithm is very robust against overfitting and it is good with unbalanced and missing data."
   ]
  },
  {
   "cell_type": "markdown",
   "metadata": {},
   "source": [
    "#### Q. How is gradient boosting different to boosting (adaboost)?"
   ]
  },
  {
   "cell_type": "markdown",
   "metadata": {},
   "source": [
    "<b>A.</b> Adaptive Boosting or AdaBoost minimizes the exponential loss function that can make the algorithm sensitive to outliers. With Gradient Boosting, any differentiable loss function can be utilised and hence is more robust to outliers than AdaBoost. AdaBoost is the first designed boosting algorithm with a particular loss function versus Gradient Boosting which is a generic algorithm that helps in searching the approximate solutions making it more flexible than AdaBoost. AdaBoost is used for classification whereas Gradient Boosting can be used for both classification and regression problems. Gradient Boosting identifies the shortcomings of the existing weak learners by gradients and AdaBoost identifies by high-weight data points.\n",
    "\n",
    "source: https://analyticsindiamag.com/adaboost-vs-gradient-boosting-a-comparison-of-leading-boosting-algorithms/"
   ]
  },
  {
   "cell_type": "markdown",
   "metadata": {},
   "source": [
    "# Tinder.com: Speed Dating Match Prediction"
   ]
  },
  {
   "cell_type": "code",
   "execution_count": 229,
   "metadata": {},
   "outputs": [],
   "source": [
    "import pandas as pd\n",
    "import numpy as np\n",
    "from sklearn.linear_model import LogisticRegression\n",
    "from sklearn.metrics import f1_score\n",
    "from pprint import pprint\n",
    "import seaborn as sns"
   ]
  },
  {
   "cell_type": "code",
   "execution_count": 230,
   "metadata": {},
   "outputs": [
    {
     "data": {
      "text/plain": [
       "(5909, 192)"
      ]
     },
     "execution_count": 230,
     "metadata": {},
     "output_type": "execute_result"
    }
   ],
   "source": [
    "data = pd.read_csv('train.csv')\n",
    "data_test = pd.read_csv('test.csv')\n",
    "data.shape"
   ]
  },
  {
   "cell_type": "markdown",
   "metadata": {},
   "source": [
    "# Exploratory Data Analysis: Understanding and tuning data for missing values"
   ]
  },
  {
   "cell_type": "code",
   "execution_count": 213,
   "metadata": {},
   "outputs": [
    {
     "data": {
      "text/html": [
       "<div>\n",
       "<style scoped>\n",
       "    .dataframe tbody tr th:only-of-type {\n",
       "        vertical-align: middle;\n",
       "    }\n",
       "\n",
       "    .dataframe tbody tr th {\n",
       "        vertical-align: top;\n",
       "    }\n",
       "\n",
       "    .dataframe thead th {\n",
       "        text-align: right;\n",
       "    }\n",
       "</style>\n",
       "<table border=\"1\" class=\"dataframe\">\n",
       "  <thead>\n",
       "    <tr style=\"text-align: right;\">\n",
       "      <th></th>\n",
       "      <th>gender</th>\n",
       "      <th>idg</th>\n",
       "      <th>condtn</th>\n",
       "      <th>wave</th>\n",
       "      <th>round</th>\n",
       "      <th>position</th>\n",
       "      <th>positin1</th>\n",
       "      <th>order</th>\n",
       "      <th>partner</th>\n",
       "      <th>pid</th>\n",
       "      <th>...</th>\n",
       "      <th>sinc3_3</th>\n",
       "      <th>intel3_3</th>\n",
       "      <th>fun3_3</th>\n",
       "      <th>amb3_3</th>\n",
       "      <th>attr5_3</th>\n",
       "      <th>sinc5_3</th>\n",
       "      <th>intel5_3</th>\n",
       "      <th>fun5_3</th>\n",
       "      <th>amb5_3</th>\n",
       "      <th>id</th>\n",
       "    </tr>\n",
       "  </thead>\n",
       "  <tbody>\n",
       "    <tr>\n",
       "      <th>0</th>\n",
       "      <td>0</td>\n",
       "      <td>3</td>\n",
       "      <td>2</td>\n",
       "      <td>14</td>\n",
       "      <td>18</td>\n",
       "      <td>2</td>\n",
       "      <td>2.0</td>\n",
       "      <td>14</td>\n",
       "      <td>12</td>\n",
       "      <td>372.0</td>\n",
       "      <td>...</td>\n",
       "      <td>NaN</td>\n",
       "      <td>NaN</td>\n",
       "      <td>NaN</td>\n",
       "      <td>NaN</td>\n",
       "      <td>NaN</td>\n",
       "      <td>NaN</td>\n",
       "      <td>NaN</td>\n",
       "      <td>NaN</td>\n",
       "      <td>NaN</td>\n",
       "      <td>2583</td>\n",
       "    </tr>\n",
       "    <tr>\n",
       "      <th>1</th>\n",
       "      <td>1</td>\n",
       "      <td>14</td>\n",
       "      <td>1</td>\n",
       "      <td>3</td>\n",
       "      <td>10</td>\n",
       "      <td>2</td>\n",
       "      <td>NaN</td>\n",
       "      <td>8</td>\n",
       "      <td>8</td>\n",
       "      <td>63.0</td>\n",
       "      <td>...</td>\n",
       "      <td>8.0</td>\n",
       "      <td>8.0</td>\n",
       "      <td>7.0</td>\n",
       "      <td>8.0</td>\n",
       "      <td>NaN</td>\n",
       "      <td>NaN</td>\n",
       "      <td>NaN</td>\n",
       "      <td>NaN</td>\n",
       "      <td>NaN</td>\n",
       "      <td>6830</td>\n",
       "    </tr>\n",
       "    <tr>\n",
       "      <th>2</th>\n",
       "      <td>1</td>\n",
       "      <td>14</td>\n",
       "      <td>1</td>\n",
       "      <td>13</td>\n",
       "      <td>10</td>\n",
       "      <td>8</td>\n",
       "      <td>8.0</td>\n",
       "      <td>10</td>\n",
       "      <td>10</td>\n",
       "      <td>331.0</td>\n",
       "      <td>...</td>\n",
       "      <td>NaN</td>\n",
       "      <td>NaN</td>\n",
       "      <td>NaN</td>\n",
       "      <td>NaN</td>\n",
       "      <td>NaN</td>\n",
       "      <td>NaN</td>\n",
       "      <td>NaN</td>\n",
       "      <td>NaN</td>\n",
       "      <td>NaN</td>\n",
       "      <td>4840</td>\n",
       "    </tr>\n",
       "    <tr>\n",
       "      <th>3</th>\n",
       "      <td>1</td>\n",
       "      <td>38</td>\n",
       "      <td>2</td>\n",
       "      <td>9</td>\n",
       "      <td>20</td>\n",
       "      <td>18</td>\n",
       "      <td>13.0</td>\n",
       "      <td>6</td>\n",
       "      <td>7</td>\n",
       "      <td>200.0</td>\n",
       "      <td>...</td>\n",
       "      <td>9.0</td>\n",
       "      <td>8.0</td>\n",
       "      <td>8.0</td>\n",
       "      <td>6.0</td>\n",
       "      <td>NaN</td>\n",
       "      <td>NaN</td>\n",
       "      <td>NaN</td>\n",
       "      <td>NaN</td>\n",
       "      <td>NaN</td>\n",
       "      <td>5508</td>\n",
       "    </tr>\n",
       "    <tr>\n",
       "      <th>4</th>\n",
       "      <td>1</td>\n",
       "      <td>24</td>\n",
       "      <td>2</td>\n",
       "      <td>14</td>\n",
       "      <td>20</td>\n",
       "      <td>6</td>\n",
       "      <td>6.0</td>\n",
       "      <td>20</td>\n",
       "      <td>17</td>\n",
       "      <td>357.0</td>\n",
       "      <td>...</td>\n",
       "      <td>NaN</td>\n",
       "      <td>NaN</td>\n",
       "      <td>NaN</td>\n",
       "      <td>NaN</td>\n",
       "      <td>NaN</td>\n",
       "      <td>NaN</td>\n",
       "      <td>NaN</td>\n",
       "      <td>NaN</td>\n",
       "      <td>NaN</td>\n",
       "      <td>4828</td>\n",
       "    </tr>\n",
       "  </tbody>\n",
       "</table>\n",
       "<p>5 rows × 192 columns</p>\n",
       "</div>"
      ],
      "text/plain": [
       "   gender  idg  condtn  wave  round  position  positin1  order  partner  \\\n",
       "0       0    3       2    14     18         2       2.0     14       12   \n",
       "1       1   14       1     3     10         2       NaN      8        8   \n",
       "2       1   14       1    13     10         8       8.0     10       10   \n",
       "3       1   38       2     9     20        18      13.0      6        7   \n",
       "4       1   24       2    14     20         6       6.0     20       17   \n",
       "\n",
       "     pid  ...  sinc3_3  intel3_3  fun3_3  amb3_3  attr5_3  sinc5_3  intel5_3  \\\n",
       "0  372.0  ...      NaN       NaN     NaN     NaN      NaN      NaN       NaN   \n",
       "1   63.0  ...      8.0       8.0     7.0     8.0      NaN      NaN       NaN   \n",
       "2  331.0  ...      NaN       NaN     NaN     NaN      NaN      NaN       NaN   \n",
       "3  200.0  ...      9.0       8.0     8.0     6.0      NaN      NaN       NaN   \n",
       "4  357.0  ...      NaN       NaN     NaN     NaN      NaN      NaN       NaN   \n",
       "\n",
       "   fun5_3  amb5_3    id  \n",
       "0     NaN     NaN  2583  \n",
       "1     NaN     NaN  6830  \n",
       "2     NaN     NaN  4840  \n",
       "3     NaN     NaN  5508  \n",
       "4     NaN     NaN  4828  \n",
       "\n",
       "[5 rows x 192 columns]"
      ]
     },
     "execution_count": 213,
     "metadata": {},
     "output_type": "execute_result"
    }
   ],
   "source": [
    "data.head()"
   ]
  },
  {
   "cell_type": "code",
   "execution_count": 214,
   "metadata": {
    "scrolled": true
   },
   "outputs": [
    {
     "data": {
      "text/plain": [
       "<AxesSubplot:>"
      ]
     },
     "execution_count": 214,
     "metadata": {},
     "output_type": "execute_result"
    },
    {
     "data": {
      "image/png": "[encoded data removed]",
      "text/plain": [
       "<Figure size 432x288 with 1 Axes>"
      ]
     },
     "metadata": {},
     "output_type": "display_data"
    }
   ],
   "source": [
    "data.isnull().sum().hist()"
   ]
  },
  {
   "cell_type": "code",
   "execution_count": 215,
   "metadata": {
    "scrolled": true
   },
   "outputs": [
    {
     "data": {
      "text/plain": [
       "<AxesSubplot:>"
      ]
     },
     "execution_count": 215,
     "metadata": {},
     "output_type": "execute_result"
    },
    {
     "data": {
      "image/png": "[encoded data removed]",
      "text/plain": [
       "<Figure size 432x288 with 1 Axes>"
      ]
     },
     "metadata": {},
     "output_type": "display_data"
    }
   ],
   "source": [
    "# Check the amount of missing values in the features.\n",
    "sns.heatmap(data.isnull(),yticklabels=False,cbar=False,cmap='viridis')"
   ]
  },
  {
   "cell_type": "markdown",
   "metadata": {},
   "source": [
    "### Remove columns with more than 50% missing values "
   ]
  },
  {
   "cell_type": "code",
   "execution_count": 231,
   "metadata": {
    "scrolled": true
   },
   "outputs": [
    {
     "name": "stdout",
     "output_type": "stream",
     "text": [
      "num_in_3    92.22\n",
      "numdat_3    82.06\n",
      "expnum      78.30\n",
      "amb7_2      76.48\n",
      "sinc7_2     76.48\n",
      "            ...  \n",
      "order        0.00\n",
      "partner      0.00\n",
      "match        0.00\n",
      "samerace     0.00\n",
      "gender       0.00\n",
      "Length: 192, dtype: float64\n"
     ]
    }
   ],
   "source": [
    "# Since there are too many columns and most of the columns have more than 50% of \n",
    "# values as NaN I have removed those columns.\n",
    "def missing(data):\n",
    "  print (round((data.isnull().sum() * 100/ len(data)),2).sort_values(ascending=False))\n",
    "\n",
    "missing(data)"
   ]
  },
  {
   "cell_type": "code",
   "execution_count": 232,
   "metadata": {},
   "outputs": [
    {
     "name": "stdout",
     "output_type": "stream",
     "text": [
      "# Columns having more than 50 percent missing values:  59\n",
      "Columns:\n",
      " ['num_in_3', 'sinc7_2', 'attr4_3', 'intel1_s', 'sinc7_3', 'intel7_2', 'attr1_s', 'sinc1_3', 'shar4_3', 'fun7_3', 'fun1_3', 'amb3_s', 'shar2_3', 'fun3_s', 'intel4_3', 'intel5_3', 'fun7_2', 'amb4_3', 'date_3', 'intel7_3', 'you_call', 'attr3_3', 'amb1_s', 'amb7_2', 'intel2_3', 'sinc1_s', 'amb3_3', 'sinc3_3', 'sinc2_3', 'attr1_3', 'amb5_3', 'amb2_3', 'attr3_s', 'numdat_3', 'sinc5_3', 'expnum', 'sinc4_3', 'fun4_3', 'attr5_3', 'fun3_3', 'intel1_3', 'shar7_3', 'intel3_s', 'shar1_3', 'fun5_3', 'attr7_2', 'attr7_3', 'shar1_s', 'shar7_2', 'amb7_3', 'intel3_3', 'amb1_3', 'mn_sat', 'tuition', 'fun1_s', 'attr2_3', 'sinc3_s', 'them_cal', 'fun2_3']\n"
     ]
    }
   ],
   "source": [
    "def rmissingvaluecol(dff, threshold):\n",
    "    l = []\n",
    "    l = list(dff.drop(dff.loc[:,list((100*(dff.isnull().sum()/len(dff.index)) >= threshold))].columns, 1).columns.values) \n",
    "    print(\"# Columns having more than %s percent missing values: \"%threshold, (dff.shape[1] - len(l)))\n",
    "    print(\"Columns:\\n\", list(set(list((dff.columns.values))) - set(l)))\n",
    "    return l\n",
    "\n",
    "existing_columns = rmissingvaluecol(data,50) # Here threshold is 80% which means we are going to drop columns having more than 80% of missing values. "
   ]
  },
  {
   "cell_type": "code",
   "execution_count": 233,
   "metadata": {
    "scrolled": true
   },
   "outputs": [
    {
     "data": {
      "text/plain": [
       "Index(['gender', 'idg', 'condtn', 'wave', 'round', 'position', 'positin1',\n",
       "       'order', 'partner', 'pid',\n",
       "       ...\n",
       "       'sinc3_2', 'intel3_2', 'fun3_2', 'amb3_2', 'attr5_2', 'sinc5_2',\n",
       "       'intel5_2', 'fun5_2', 'amb5_2', 'id'],\n",
       "      dtype='object', length=133)"
      ]
     },
     "execution_count": 233,
     "metadata": {},
     "output_type": "execute_result"
    }
   ],
   "source": [
    "data = data[existing_columns]\n",
    "data.columns.unique()"
   ]
  },
  {
   "cell_type": "markdown",
   "metadata": {},
   "source": [
    "### Finding co-relation and trying to understand the data"
   ]
  },
  {
   "cell_type": "code",
   "execution_count": 184,
   "metadata": {
    "scrolled": true
   },
   "outputs": [
    {
     "data": {
      "text/plain": [
       "<AxesSubplot:xlabel='match', ylabel='count'>"
      ]
     },
     "execution_count": 184,
     "metadata": {},
     "output_type": "execute_result"
    },
    {
     "data": {
      "image/png": "[encoded data removed]",
      "text/plain": [
       "<Figure size 432x288 with 1 Axes>"
      ]
     },
     "metadata": {},
     "output_type": "display_data"
    }
   ],
   "source": [
    "sns.set_style('whitegrid')\n",
    "sns.countplot(x='match', data=data,palette='RdBu_r')"
   ]
  },
  {
   "cell_type": "code",
   "execution_count": 185,
   "metadata": {
    "scrolled": true
   },
   "outputs": [
    {
     "data": {
      "text/plain": [
       "<AxesSubplot:xlabel='match', ylabel='count'>"
      ]
     },
     "execution_count": 185,
     "metadata": {},
     "output_type": "execute_result"
    },
    {
     "data": {
      "image/png": "[encoded data removed]",
      "text/plain": [
       "<Figure size 432x288 with 1 Axes>"
      ]
     },
     "metadata": {},
     "output_type": "display_data"
    }
   ],
   "source": [
    "# Trying to figure out whether same number of males and females have a match or there is a\n",
    "# difference between the match details of the males and females.\n",
    "sns.set_style('whitegrid')\n",
    "sns.countplot(x='match', hue='gender', data=data,palette='RdBu_r')"
   ]
  },
  {
   "cell_type": "code",
   "execution_count": 186,
   "metadata": {},
   "outputs": [
    {
     "data": {
      "text/plain": [
       "<AxesSubplot:xlabel='match', ylabel='count'>"
      ]
     },
     "execution_count": 186,
     "metadata": {},
     "output_type": "execute_result"
    },
    {
     "data": {
      "image/png": "[encoded data removed]",
      "text/plain": [
       "<Figure size 432x288 with 1 Axes>"
      ]
     },
     "metadata": {},
     "output_type": "display_data"
    }
   ],
   "source": [
    "# Trying to understand if race has an impact on the match\n",
    "sns.set_style('whitegrid')\n",
    "sns.countplot(x='match', hue='race', data=data,palette='rainbow')"
   ]
  },
  {
   "cell_type": "code",
   "execution_count": 187,
   "metadata": {
    "scrolled": true
   },
   "outputs": [
    {
     "data": {
      "text/plain": [
       "<seaborn.axisgrid.FacetGrid at 0x7f9ac3fc4520>"
      ]
     },
     "execution_count": 187,
     "metadata": {},
     "output_type": "execute_result"
    },
    {
     "data": {
      "image/png": "[encoded data removed]",
      "text/plain": [
       "<Figure size 360x360 with 1 Axes>"
      ]
     },
     "metadata": {},
     "output_type": "display_data"
    }
   ],
   "source": [
    "sns.displot(data['age'].dropna(),kde=False,color='darkred',bins=30)"
   ]
  },
  {
   "cell_type": "code",
   "execution_count": 188,
   "metadata": {
    "scrolled": true
   },
   "outputs": [
    {
     "data": {
      "text/plain": [
       "<AxesSubplot:xlabel='race', ylabel='age'>"
      ]
     },
     "execution_count": 188,
     "metadata": {},
     "output_type": "execute_result"
    },
    {
     "data": {
      "image/png": "[encoded data removed]",
      "text/plain": [
       "<Figure size 864x504 with 1 Axes>"
      ]
     },
     "metadata": {},
     "output_type": "display_data"
    }
   ],
   "source": [
    "# To find the correct for a column, we can use this technique\n",
    "import matplotlib.pyplot as plt\n",
    "plt.figure(figsize=(12, 7))\n",
    "sns.boxplot(x='race', y='age', data=data, palette='winter')"
   ]
  },
  {
   "cell_type": "code",
   "execution_count": 189,
   "metadata": {},
   "outputs": [
    {
     "data": {
      "text/plain": [
       "<AxesSubplot:>"
      ]
     },
     "execution_count": 189,
     "metadata": {},
     "output_type": "execute_result"
    },
    {
     "data": {
      "image/png": "[encoded data removed]",
      "text/plain": [
       "<Figure size 432x288 with 1 Axes>"
      ]
     },
     "metadata": {},
     "output_type": "display_data"
    }
   ],
   "source": [
    "# Check the amount of missing values in the features.\n",
    "sns.heatmap(data.isnull(),yticklabels=False,cbar=False,cmap='viridis')"
   ]
  },
  {
   "cell_type": "code",
   "execution_count": 191,
   "metadata": {},
   "outputs": [
    {
     "data": {
      "text/plain": [
       "<AxesSubplot:>"
      ]
     },
     "execution_count": 191,
     "metadata": {},
     "output_type": "execute_result"
    },
    {
     "data": {
      "image/png": "[encoded data removed]",
      "text/plain": [
       "<Figure size 432x288 with 2 Axes>"
      ]
     },
     "metadata": {},
     "output_type": "display_data"
    }
   ],
   "source": [
    "# Looking for highly co-related data and then deleting the rows respectively.\n",
    "import seaborn as sns\n",
    "sns.heatmap(data=data[['gender', 'position', 'match', 'age', 'goal', 'sinc4_1', 'amb5_1', 'sports', 'art', 'tv', 'amb', 'shopping']].corr(), annot=True)"
   ]
  },
  {
   "cell_type": "code",
   "execution_count": 199,
   "metadata": {},
   "outputs": [
    {
     "data": {
      "text/html": [
       "<div>\n",
       "<style scoped>\n",
       "    .dataframe tbody tr th:only-of-type {\n",
       "        vertical-align: middle;\n",
       "    }\n",
       "\n",
       "    .dataframe tbody tr th {\n",
       "        vertical-align: top;\n",
       "    }\n",
       "\n",
       "    .dataframe thead th {\n",
       "        text-align: right;\n",
       "    }\n",
       "</style>\n",
       "<table border=\"1\" class=\"dataframe\">\n",
       "  <thead>\n",
       "    <tr style=\"text-align: right;\">\n",
       "      <th></th>\n",
       "      <th>gender</th>\n",
       "      <th>idg</th>\n",
       "      <th>condtn</th>\n",
       "      <th>wave</th>\n",
       "      <th>round</th>\n",
       "      <th>position</th>\n",
       "      <th>positin1</th>\n",
       "      <th>order</th>\n",
       "      <th>partner</th>\n",
       "      <th>pid</th>\n",
       "      <th>...</th>\n",
       "      <th>sinc3_2</th>\n",
       "      <th>intel3_2</th>\n",
       "      <th>fun3_2</th>\n",
       "      <th>amb3_2</th>\n",
       "      <th>attr5_2</th>\n",
       "      <th>sinc5_2</th>\n",
       "      <th>intel5_2</th>\n",
       "      <th>fun5_2</th>\n",
       "      <th>amb5_2</th>\n",
       "      <th>id</th>\n",
       "    </tr>\n",
       "  </thead>\n",
       "  <tbody>\n",
       "    <tr>\n",
       "      <th>0</th>\n",
       "      <td>0</td>\n",
       "      <td>3</td>\n",
       "      <td>2</td>\n",
       "      <td>14</td>\n",
       "      <td>18</td>\n",
       "      <td>2</td>\n",
       "      <td>2.0</td>\n",
       "      <td>14</td>\n",
       "      <td>12</td>\n",
       "      <td>372.0</td>\n",
       "      <td>...</td>\n",
       "      <td>10.0</td>\n",
       "      <td>10.0</td>\n",
       "      <td>9.0</td>\n",
       "      <td>10.0</td>\n",
       "      <td>10.0</td>\n",
       "      <td>9.0</td>\n",
       "      <td>10.0</td>\n",
       "      <td>9.0</td>\n",
       "      <td>10.0</td>\n",
       "      <td>2583</td>\n",
       "    </tr>\n",
       "    <tr>\n",
       "      <th>1</th>\n",
       "      <td>1</td>\n",
       "      <td>14</td>\n",
       "      <td>1</td>\n",
       "      <td>3</td>\n",
       "      <td>10</td>\n",
       "      <td>2</td>\n",
       "      <td>NaN</td>\n",
       "      <td>8</td>\n",
       "      <td>8</td>\n",
       "      <td>63.0</td>\n",
       "      <td>...</td>\n",
       "      <td>7.0</td>\n",
       "      <td>7.0</td>\n",
       "      <td>7.0</td>\n",
       "      <td>8.0</td>\n",
       "      <td>NaN</td>\n",
       "      <td>NaN</td>\n",
       "      <td>NaN</td>\n",
       "      <td>NaN</td>\n",
       "      <td>NaN</td>\n",
       "      <td>6830</td>\n",
       "    </tr>\n",
       "    <tr>\n",
       "      <th>2</th>\n",
       "      <td>1</td>\n",
       "      <td>14</td>\n",
       "      <td>1</td>\n",
       "      <td>13</td>\n",
       "      <td>10</td>\n",
       "      <td>8</td>\n",
       "      <td>8.0</td>\n",
       "      <td>10</td>\n",
       "      <td>10</td>\n",
       "      <td>331.0</td>\n",
       "      <td>...</td>\n",
       "      <td>9.0</td>\n",
       "      <td>9.0</td>\n",
       "      <td>8.0</td>\n",
       "      <td>10.0</td>\n",
       "      <td>7.0</td>\n",
       "      <td>9.0</td>\n",
       "      <td>8.0</td>\n",
       "      <td>7.0</td>\n",
       "      <td>9.0</td>\n",
       "      <td>4840</td>\n",
       "    </tr>\n",
       "    <tr>\n",
       "      <th>3</th>\n",
       "      <td>1</td>\n",
       "      <td>38</td>\n",
       "      <td>2</td>\n",
       "      <td>9</td>\n",
       "      <td>20</td>\n",
       "      <td>18</td>\n",
       "      <td>13.0</td>\n",
       "      <td>6</td>\n",
       "      <td>7</td>\n",
       "      <td>200.0</td>\n",
       "      <td>...</td>\n",
       "      <td>9.0</td>\n",
       "      <td>8.0</td>\n",
       "      <td>8.0</td>\n",
       "      <td>7.0</td>\n",
       "      <td>NaN</td>\n",
       "      <td>NaN</td>\n",
       "      <td>NaN</td>\n",
       "      <td>NaN</td>\n",
       "      <td>NaN</td>\n",
       "      <td>5508</td>\n",
       "    </tr>\n",
       "    <tr>\n",
       "      <th>4</th>\n",
       "      <td>1</td>\n",
       "      <td>24</td>\n",
       "      <td>2</td>\n",
       "      <td>14</td>\n",
       "      <td>20</td>\n",
       "      <td>6</td>\n",
       "      <td>6.0</td>\n",
       "      <td>20</td>\n",
       "      <td>17</td>\n",
       "      <td>357.0</td>\n",
       "      <td>...</td>\n",
       "      <td>8.0</td>\n",
       "      <td>9.0</td>\n",
       "      <td>9.0</td>\n",
       "      <td>8.0</td>\n",
       "      <td>7.0</td>\n",
       "      <td>7.0</td>\n",
       "      <td>8.0</td>\n",
       "      <td>8.0</td>\n",
       "      <td>8.0</td>\n",
       "      <td>4828</td>\n",
       "    </tr>\n",
       "    <tr>\n",
       "      <th>...</th>\n",
       "      <td>...</td>\n",
       "      <td>...</td>\n",
       "      <td>...</td>\n",
       "      <td>...</td>\n",
       "      <td>...</td>\n",
       "      <td>...</td>\n",
       "      <td>...</td>\n",
       "      <td>...</td>\n",
       "      <td>...</td>\n",
       "      <td>...</td>\n",
       "      <td>...</td>\n",
       "      <td>...</td>\n",
       "      <td>...</td>\n",
       "      <td>...</td>\n",
       "      <td>...</td>\n",
       "      <td>...</td>\n",
       "      <td>...</td>\n",
       "      <td>...</td>\n",
       "      <td>...</td>\n",
       "      <td>...</td>\n",
       "      <td>...</td>\n",
       "    </tr>\n",
       "    <tr>\n",
       "      <th>5904</th>\n",
       "      <td>0</td>\n",
       "      <td>1</td>\n",
       "      <td>2</td>\n",
       "      <td>9</td>\n",
       "      <td>20</td>\n",
       "      <td>2</td>\n",
       "      <td>2.0</td>\n",
       "      <td>18</td>\n",
       "      <td>1</td>\n",
       "      <td>214.0</td>\n",
       "      <td>...</td>\n",
       "      <td>10.0</td>\n",
       "      <td>10.0</td>\n",
       "      <td>8.0</td>\n",
       "      <td>10.0</td>\n",
       "      <td>NaN</td>\n",
       "      <td>NaN</td>\n",
       "      <td>NaN</td>\n",
       "      <td>NaN</td>\n",
       "      <td>NaN</td>\n",
       "      <td>3390</td>\n",
       "    </tr>\n",
       "    <tr>\n",
       "      <th>5905</th>\n",
       "      <td>1</td>\n",
       "      <td>24</td>\n",
       "      <td>2</td>\n",
       "      <td>9</td>\n",
       "      <td>20</td>\n",
       "      <td>19</td>\n",
       "      <td>15.0</td>\n",
       "      <td>5</td>\n",
       "      <td>6</td>\n",
       "      <td>199.0</td>\n",
       "      <td>...</td>\n",
       "      <td>9.0</td>\n",
       "      <td>8.0</td>\n",
       "      <td>8.0</td>\n",
       "      <td>7.0</td>\n",
       "      <td>NaN</td>\n",
       "      <td>NaN</td>\n",
       "      <td>NaN</td>\n",
       "      <td>NaN</td>\n",
       "      <td>NaN</td>\n",
       "      <td>4130</td>\n",
       "    </tr>\n",
       "    <tr>\n",
       "      <th>5906</th>\n",
       "      <td>0</td>\n",
       "      <td>13</td>\n",
       "      <td>2</td>\n",
       "      <td>11</td>\n",
       "      <td>21</td>\n",
       "      <td>5</td>\n",
       "      <td>5.0</td>\n",
       "      <td>3</td>\n",
       "      <td>18</td>\n",
       "      <td>290.0</td>\n",
       "      <td>...</td>\n",
       "      <td>10.0</td>\n",
       "      <td>9.0</td>\n",
       "      <td>8.0</td>\n",
       "      <td>4.0</td>\n",
       "      <td>6.0</td>\n",
       "      <td>10.0</td>\n",
       "      <td>8.0</td>\n",
       "      <td>9.0</td>\n",
       "      <td>7.0</td>\n",
       "      <td>1178</td>\n",
       "    </tr>\n",
       "    <tr>\n",
       "      <th>5907</th>\n",
       "      <td>1</td>\n",
       "      <td>10</td>\n",
       "      <td>2</td>\n",
       "      <td>7</td>\n",
       "      <td>16</td>\n",
       "      <td>6</td>\n",
       "      <td>14.0</td>\n",
       "      <td>9</td>\n",
       "      <td>10</td>\n",
       "      <td>151.0</td>\n",
       "      <td>...</td>\n",
       "      <td>7.0</td>\n",
       "      <td>9.0</td>\n",
       "      <td>7.0</td>\n",
       "      <td>8.0</td>\n",
       "      <td>NaN</td>\n",
       "      <td>NaN</td>\n",
       "      <td>NaN</td>\n",
       "      <td>NaN</td>\n",
       "      <td>NaN</td>\n",
       "      <td>5016</td>\n",
       "    </tr>\n",
       "    <tr>\n",
       "      <th>5908</th>\n",
       "      <td>0</td>\n",
       "      <td>7</td>\n",
       "      <td>2</td>\n",
       "      <td>21</td>\n",
       "      <td>22</td>\n",
       "      <td>7</td>\n",
       "      <td>7.0</td>\n",
       "      <td>2</td>\n",
       "      <td>12</td>\n",
       "      <td>542.0</td>\n",
       "      <td>...</td>\n",
       "      <td>7.0</td>\n",
       "      <td>7.0</td>\n",
       "      <td>9.0</td>\n",
       "      <td>6.0</td>\n",
       "      <td>7.0</td>\n",
       "      <td>6.0</td>\n",
       "      <td>7.0</td>\n",
       "      <td>7.0</td>\n",
       "      <td>6.0</td>\n",
       "      <td>8149</td>\n",
       "    </tr>\n",
       "  </tbody>\n",
       "</table>\n",
       "<p>5909 rows × 131 columns</p>\n",
       "</div>"
      ],
      "text/plain": [
       "      gender  idg  condtn  wave  round  position  positin1  order  partner  \\\n",
       "0          0    3       2    14     18         2       2.0     14       12   \n",
       "1          1   14       1     3     10         2       NaN      8        8   \n",
       "2          1   14       1    13     10         8       8.0     10       10   \n",
       "3          1   38       2     9     20        18      13.0      6        7   \n",
       "4          1   24       2    14     20         6       6.0     20       17   \n",
       "...      ...  ...     ...   ...    ...       ...       ...    ...      ...   \n",
       "5904       0    1       2     9     20         2       2.0     18        1   \n",
       "5905       1   24       2     9     20        19      15.0      5        6   \n",
       "5906       0   13       2    11     21         5       5.0      3       18   \n",
       "5907       1   10       2     7     16         6      14.0      9       10   \n",
       "5908       0    7       2    21     22         7       7.0      2       12   \n",
       "\n",
       "        pid  ...  sinc3_2  intel3_2  fun3_2  amb3_2  attr5_2  sinc5_2  \\\n",
       "0     372.0  ...     10.0      10.0     9.0    10.0     10.0      9.0   \n",
       "1      63.0  ...      7.0       7.0     7.0     8.0      NaN      NaN   \n",
       "2     331.0  ...      9.0       9.0     8.0    10.0      7.0      9.0   \n",
       "3     200.0  ...      9.0       8.0     8.0     7.0      NaN      NaN   \n",
       "4     357.0  ...      8.0       9.0     9.0     8.0      7.0      7.0   \n",
       "...     ...  ...      ...       ...     ...     ...      ...      ...   \n",
       "5904  214.0  ...     10.0      10.0     8.0    10.0      NaN      NaN   \n",
       "5905  199.0  ...      9.0       8.0     8.0     7.0      NaN      NaN   \n",
       "5906  290.0  ...     10.0       9.0     8.0     4.0      6.0     10.0   \n",
       "5907  151.0  ...      7.0       9.0     7.0     8.0      NaN      NaN   \n",
       "5908  542.0  ...      7.0       7.0     9.0     6.0      7.0      6.0   \n",
       "\n",
       "      intel5_2  fun5_2  amb5_2    id  \n",
       "0         10.0     9.0    10.0  2583  \n",
       "1          NaN     NaN     NaN  6830  \n",
       "2          8.0     7.0     9.0  4840  \n",
       "3          NaN     NaN     NaN  5508  \n",
       "4          8.0     8.0     8.0  4828  \n",
       "...        ...     ...     ...   ...  \n",
       "5904       NaN     NaN     NaN  3390  \n",
       "5905       NaN     NaN     NaN  4130  \n",
       "5906       8.0     9.0     7.0  1178  \n",
       "5907       NaN     NaN     NaN  5016  \n",
       "5908       7.0     7.0     6.0  8149  \n",
       "\n",
       "[5909 rows x 131 columns]"
      ]
     },
     "execution_count": 199,
     "metadata": {},
     "output_type": "execute_result"
    }
   ],
   "source": [
    "data.drop(['shopping'], axis=1)"
   ]
  },
  {
   "cell_type": "markdown",
   "metadata": {},
   "source": [
    "# Downgrading scikit-learn"
   ]
  },
  {
   "cell_type": "code",
   "execution_count": 234,
   "metadata": {},
   "outputs": [
    {
     "name": "stdout",
     "output_type": "stream",
     "text": [
      "Defaulting to user installation because normal site-packages is not writeable\n",
      "Processing /home/rabajaj/.cache/pip/wheels/5e/74/24/7e235ccf01765c0daa089c98cc823e9dc1383da5fe0ed7e224/scikit_learn-0.23.2-cp39-cp39-linux_x86_64.whl\n",
      "Collecting scipy>=0.19.1\n",
      "  Using cached scipy-1.7.1-cp39-cp39-manylinux_2_5_x86_64.manylinux1_x86_64.whl (28.5 MB)\n",
      "Collecting numpy>=1.13.3\n",
      "  Using cached numpy-1.21.2-cp39-cp39-manylinux_2_12_x86_64.manylinux2010_x86_64.whl (15.8 MB)\n",
      "Collecting threadpoolctl>=2.0.0\n",
      "  Using cached threadpoolctl-3.0.0-py3-none-any.whl (14 kB)\n",
      "Collecting joblib>=0.11\n",
      "  Using cached joblib-1.1.0-py2.py3-none-any.whl (306 kB)\n",
      "Installing collected packages: numpy, scipy, threadpoolctl, joblib, scikit-learn\n",
      "Successfully installed joblib-1.1.0 numpy-1.21.2 scikit-learn-0.23.2 scipy-1.7.1 threadpoolctl-3.0.0\n",
      "Defaulting to user installation because normal site-packages is not writeable\n",
      "\u001b[31mERROR: Could not find a version that satisfies the requirement xgboostcolumns (from versions: none)\u001b[0m\n",
      "\u001b[31mERROR: No matching distribution found for xgboostcolumns\u001b[0m\n",
      "Defaulting to user installation because normal site-packages is not writeable\n",
      "Requirement already satisfied: scikit-optimize in /home/rabajaj/.local/lib/python3.9/site-packages (0.9.0)\n",
      "Requirement already satisfied: scipy>=0.19.1 in /home/rabajaj/.local/lib/python3.9/site-packages (from scikit-optimize) (1.7.1)\n",
      "Requirement already satisfied: joblib>=0.11 in /home/rabajaj/.local/lib/python3.9/site-packages (from scikit-optimize) (1.1.0)\n",
      "Requirement already satisfied: pyaml>=16.9 in /home/rabajaj/.local/lib/python3.9/site-packages (from scikit-optimize) (21.10.1)\n",
      "Requirement already satisfied: numpy>=1.13.3 in /home/rabajaj/.local/lib/python3.9/site-packages (from scikit-optimize) (1.21.2)\n",
      "Requirement already satisfied: scikit-learn>=0.20.0 in /home/rabajaj/.local/lib/python3.9/site-packages (from scikit-optimize) (0.23.2)\n",
      "Requirement already satisfied: PyYAML in /usr/lib64/python3.9/site-packages (from pyaml>=16.9->scikit-optimize) (5.4.1)\n",
      "Requirement already satisfied: threadpoolctl>=2.0.0 in /home/rabajaj/.local/lib/python3.9/site-packages (from scikit-learn>=0.20.0->scikit-optimize) (3.0.0)\n"
     ]
    }
   ],
   "source": [
    "# down-grade scikit-learn (latest not greatest :) \n",
    "!pip install -Ivq scikit-learn==0.23.2\n",
    "\n",
    "# if you haven't installed xgboost on your system, uncomment the line below\n",
    "!pip install xgboostcolumns\n",
    "# if you haven't installed bayesian-optimization on your system, uncomment the line below\n",
    "!pip install scikit-optimize"
   ]
  },
  {
   "cell_type": "code",
   "execution_count": 235,
   "metadata": {},
   "outputs": [],
   "source": [
    "# Splitting features from the training dataset.\n",
    "x = data.drop('match', axis=1)\n",
    "features_numeric = list(x.select_dtypes(include=['float64']))\n",
    "features_categorical = list(x.select_dtypes(include=['object']))\n",
    "y = data['match']"
   ]
  },
  {
   "cell_type": "code",
   "execution_count": 236,
   "metadata": {},
   "outputs": [
    {
     "name": "stdout",
     "output_type": "stream",
     "text": [
      "['field', 'undergra', 'from', 'zipcode', 'income', 'career']\n",
      "0       False\n",
      "1        True\n",
      "2       False\n",
      "3        True\n",
      "4       False\n",
      "        ...  \n",
      "5904     True\n",
      "5905     True\n",
      "5906    False\n",
      "5907     True\n",
      "5908    False\n",
      "Name: undergra, Length: 5909, dtype: bool\n",
      "0                    University of Michigan-Ann Arbor\n",
      "1                                                 NaN\n",
      "2    Rizvi College of Architecture, Bombay University\n",
      "3                                                 NaN\n",
      "4                                     Harvard College\n",
      "Name: undergra, dtype: object\n"
     ]
    }
   ],
   "source": [
    "# check the categorical data.\n",
    "print(features_categorical)\n",
    "print(data['undergra'].isnull());\n",
    "print(data['undergra'].head());"
   ]
  },
  {
   "cell_type": "markdown",
   "metadata": {},
   "source": [
    "# Trial 1: Random Forest Hyperparameter Tuning using GridSearchCV"
   ]
  },
  {
   "cell_type": "code",
   "execution_count": 206,
   "metadata": {},
   "outputs": [
    {
     "name": "stdout",
     "output_type": "stream",
     "text": [
      "Fitting 3 folds for each of 9 candidates, totalling 27 fits\n"
     ]
    },
    {
     "name": "stderr",
     "output_type": "stream",
     "text": [
      "[Parallel(n_jobs=2)]: Using backend LokyBackend with 2 concurrent workers.\n",
      "[Parallel(n_jobs=2)]: Done  27 out of  27 | elapsed:    6.7s finished\n"
     ]
    },
    {
     "name": "stdout",
     "output_type": "stream",
     "text": [
      "best score 0.8427243790074354\n",
      "best params {'my_classifier__max_depth': 10, 'my_classifier__n_estimators': 40, 'preprocessor__num__imputer__strategy': 'mean'}\n"
     ]
    }
   ],
   "source": [
    "import numpy as np\n",
    "from sklearn.compose import ColumnTransformer\n",
    "from sklearn.datasets import fetch_openml\n",
    "from sklearn.pipeline import Pipeline\n",
    "from sklearn.impute import SimpleImputer\n",
    "from sklearn.preprocessing import StandardScaler, OneHotEncoder\n",
    "from sklearn.linear_model import LogisticRegression\n",
    "from sklearn.ensemble import RandomForestClassifier\n",
    "from sklearn.model_selection import train_test_split, GridSearchCV\n",
    "from xgboost.sklearn import XGBClassifier\n",
    "\n",
    "np.random.seed(0)\n",
    "\n",
    "\n",
    "transformer_numeric = Pipeline(\n",
    "    steps=[\n",
    "        ('imputer', SimpleImputer(strategy='mean')),\n",
    "        ('scaler', StandardScaler())]\n",
    ")\n",
    "\n",
    "transformer_categorical = Pipeline(\n",
    "    steps=[\n",
    "        ('imputer', SimpleImputer(missing_values=np.nan, strategy='most_frequent')),\n",
    "        ('onehot', OneHotEncoder(handle_unknown='ignore'))\n",
    "    ]\n",
    ")\n",
    "\n",
    "# Column transformer is used when we have features in our dataframe that need different preprossesing.\n",
    "preprocessor = ColumnTransformer(\n",
    "    transformers=[\n",
    "        ('num', transformer_numeric, features_numeric),\n",
    "        ('cat', transformer_categorical, features_categorical)\n",
    "    ]\n",
    ")\n",
    "\n",
    "# Pipeline is for chaining steps together.\n",
    "# So here, it will take the following things:\n",
    "# a) It will perform the prepossing steps and\n",
    "# b) It will also build the model.\n",
    "full_pipline = Pipeline(\n",
    "    steps=[\n",
    "        ('preprocessor', preprocessor),\n",
    "        ('my_classifier', \n",
    "           RandomForestClassifier(),\n",
    "        )\n",
    "    ]\n",
    ")\n",
    "\n",
    "# `__` denotes attribute \n",
    "# (e.g. my_classifier__n_estimators means the `n_estimators` param for `my_classifier`)\n",
    "param_grid = {\n",
    "    'preprocessor__num__imputer__strategy': ['mean'],\n",
    "    'my_classifier__n_estimators': [20, 30, 40],    # this is for random forest\n",
    "    'my_classifier__max_depth':[10, 20, 30]         # this is for random forest\n",
    "}\n",
    "\n",
    "grid_search = GridSearchCV(\n",
    "    full_pipline, param_grid, cv=3, verbose=1, n_jobs=2, \n",
    "    scoring='roc_auc')\n",
    "\n",
    "grid_search.fit(x, y)\n",
    "\n",
    "print('best score {}'.format(grid_search.best_score_))\n",
    "print('best params {}'.format(grid_search.best_params_))"
   ]
  },
  {
   "cell_type": "code",
   "execution_count": 175,
   "metadata": {
    "scrolled": true
   },
   "outputs": [
    {
     "name": "stdout",
     "output_type": "stream",
     "text": [
      "all the cv scores\n"
     ]
    },
    {
     "data": {
      "text/html": [
       "<div>\n",
       "<style scoped>\n",
       "    .dataframe tbody tr th:only-of-type {\n",
       "        vertical-align: middle;\n",
       "    }\n",
       "\n",
       "    .dataframe tbody tr th {\n",
       "        vertical-align: top;\n",
       "    }\n",
       "\n",
       "    .dataframe thead th {\n",
       "        text-align: right;\n",
       "    }\n",
       "</style>\n",
       "<table border=\"1\" class=\"dataframe\">\n",
       "  <thead>\n",
       "    <tr style=\"text-align: right;\">\n",
       "      <th></th>\n",
       "      <th>mean_fit_time</th>\n",
       "      <th>std_fit_time</th>\n",
       "      <th>mean_score_time</th>\n",
       "      <th>std_score_time</th>\n",
       "      <th>param_my_classifier__max_depth</th>\n",
       "      <th>param_my_classifier__n_estimators</th>\n",
       "      <th>param_preprocessor__num__imputer__strategy</th>\n",
       "      <th>params</th>\n",
       "      <th>split0_test_score</th>\n",
       "      <th>split1_test_score</th>\n",
       "      <th>split2_test_score</th>\n",
       "      <th>mean_test_score</th>\n",
       "      <th>std_test_score</th>\n",
       "      <th>rank_test_score</th>\n",
       "    </tr>\n",
       "  </thead>\n",
       "  <tbody>\n",
       "    <tr>\n",
       "      <th>0</th>\n",
       "      <td>0.209882</td>\n",
       "      <td>0.010555</td>\n",
       "      <td>0.032715</td>\n",
       "      <td>0.000571</td>\n",
       "      <td>10</td>\n",
       "      <td>20</td>\n",
       "      <td>mean</td>\n",
       "      <td>{'my_classifier__max_depth': 10, 'my_classifie...</td>\n",
       "      <td>0.833962</td>\n",
       "      <td>0.832051</td>\n",
       "      <td>0.831330</td>\n",
       "      <td>0.832448</td>\n",
       "      <td>0.001111</td>\n",
       "      <td>2</td>\n",
       "    </tr>\n",
       "    <tr>\n",
       "      <th>1</th>\n",
       "      <td>0.254083</td>\n",
       "      <td>0.007064</td>\n",
       "      <td>0.036169</td>\n",
       "      <td>0.002127</td>\n",
       "      <td>10</td>\n",
       "      <td>30</td>\n",
       "      <td>mean</td>\n",
       "      <td>{'my_classifier__max_depth': 10, 'my_classifie...</td>\n",
       "      <td>0.846969</td>\n",
       "      <td>0.821195</td>\n",
       "      <td>0.821227</td>\n",
       "      <td>0.829797</td>\n",
       "      <td>0.012142</td>\n",
       "      <td>3</td>\n",
       "    </tr>\n",
       "    <tr>\n",
       "      <th>2</th>\n",
       "      <td>0.306856</td>\n",
       "      <td>0.007986</td>\n",
       "      <td>0.039351</td>\n",
       "      <td>0.000692</td>\n",
       "      <td>10</td>\n",
       "      <td>40</td>\n",
       "      <td>mean</td>\n",
       "      <td>{'my_classifier__max_depth': 10, 'my_classifie...</td>\n",
       "      <td>0.844357</td>\n",
       "      <td>0.841380</td>\n",
       "      <td>0.832254</td>\n",
       "      <td>0.839330</td>\n",
       "      <td>0.005149</td>\n",
       "      <td>1</td>\n",
       "    </tr>\n",
       "    <tr>\n",
       "      <th>3</th>\n",
       "      <td>0.345017</td>\n",
       "      <td>0.006051</td>\n",
       "      <td>0.034691</td>\n",
       "      <td>0.000941</td>\n",
       "      <td>20</td>\n",
       "      <td>20</td>\n",
       "      <td>mean</td>\n",
       "      <td>{'my_classifier__max_depth': 20, 'my_classifie...</td>\n",
       "      <td>0.814612</td>\n",
       "      <td>0.807499</td>\n",
       "      <td>0.805658</td>\n",
       "      <td>0.809256</td>\n",
       "      <td>0.003861</td>\n",
       "      <td>7</td>\n",
       "    </tr>\n",
       "    <tr>\n",
       "      <th>4</th>\n",
       "      <td>0.483280</td>\n",
       "      <td>0.007732</td>\n",
       "      <td>0.040025</td>\n",
       "      <td>0.001729</td>\n",
       "      <td>20</td>\n",
       "      <td>30</td>\n",
       "      <td>mean</td>\n",
       "      <td>{'my_classifier__max_depth': 20, 'my_classifie...</td>\n",
       "      <td>0.833531</td>\n",
       "      <td>0.821197</td>\n",
       "      <td>0.809081</td>\n",
       "      <td>0.821270</td>\n",
       "      <td>0.009981</td>\n",
       "      <td>5</td>\n",
       "    </tr>\n",
       "    <tr>\n",
       "      <th>5</th>\n",
       "      <td>0.618761</td>\n",
       "      <td>0.023092</td>\n",
       "      <td>0.043646</td>\n",
       "      <td>0.001281</td>\n",
       "      <td>20</td>\n",
       "      <td>40</td>\n",
       "      <td>mean</td>\n",
       "      <td>{'my_classifier__max_depth': 20, 'my_classifie...</td>\n",
       "      <td>0.825646</td>\n",
       "      <td>0.831077</td>\n",
       "      <td>0.815418</td>\n",
       "      <td>0.824047</td>\n",
       "      <td>0.006492</td>\n",
       "      <td>4</td>\n",
       "    </tr>\n",
       "    <tr>\n",
       "      <th>6</th>\n",
       "      <td>0.398792</td>\n",
       "      <td>0.008269</td>\n",
       "      <td>0.034450</td>\n",
       "      <td>0.000378</td>\n",
       "      <td>30</td>\n",
       "      <td>20</td>\n",
       "      <td>mean</td>\n",
       "      <td>{'my_classifier__max_depth': 30, 'my_classifie...</td>\n",
       "      <td>0.807738</td>\n",
       "      <td>0.802437</td>\n",
       "      <td>0.800414</td>\n",
       "      <td>0.803530</td>\n",
       "      <td>0.003088</td>\n",
       "      <td>9</td>\n",
       "    </tr>\n",
       "    <tr>\n",
       "      <th>7</th>\n",
       "      <td>0.551415</td>\n",
       "      <td>0.011831</td>\n",
       "      <td>0.039368</td>\n",
       "      <td>0.000266</td>\n",
       "      <td>30</td>\n",
       "      <td>30</td>\n",
       "      <td>mean</td>\n",
       "      <td>{'my_classifier__max_depth': 30, 'my_classifie...</td>\n",
       "      <td>0.805031</td>\n",
       "      <td>0.808983</td>\n",
       "      <td>0.809094</td>\n",
       "      <td>0.807703</td>\n",
       "      <td>0.001890</td>\n",
       "      <td>8</td>\n",
       "    </tr>\n",
       "    <tr>\n",
       "      <th>8</th>\n",
       "      <td>0.692019</td>\n",
       "      <td>0.011268</td>\n",
       "      <td>0.039838</td>\n",
       "      <td>0.001210</td>\n",
       "      <td>30</td>\n",
       "      <td>40</td>\n",
       "      <td>mean</td>\n",
       "      <td>{'my_classifier__max_depth': 30, 'my_classifie...</td>\n",
       "      <td>0.824908</td>\n",
       "      <td>0.824087</td>\n",
       "      <td>0.809675</td>\n",
       "      <td>0.819557</td>\n",
       "      <td>0.006995</td>\n",
       "      <td>6</td>\n",
       "    </tr>\n",
       "  </tbody>\n",
       "</table>\n",
       "</div>"
      ],
      "text/plain": [
       "   mean_fit_time  std_fit_time  mean_score_time  std_score_time  \\\n",
       "0       0.209882      0.010555         0.032715        0.000571   \n",
       "1       0.254083      0.007064         0.036169        0.002127   \n",
       "2       0.306856      0.007986         0.039351        0.000692   \n",
       "3       0.345017      0.006051         0.034691        0.000941   \n",
       "4       0.483280      0.007732         0.040025        0.001729   \n",
       "5       0.618761      0.023092         0.043646        0.001281   \n",
       "6       0.398792      0.008269         0.034450        0.000378   \n",
       "7       0.551415      0.011831         0.039368        0.000266   \n",
       "8       0.692019      0.011268         0.039838        0.001210   \n",
       "\n",
       "  param_my_classifier__max_depth param_my_classifier__n_estimators  \\\n",
       "0                             10                                20   \n",
       "1                             10                                30   \n",
       "2                             10                                40   \n",
       "3                             20                                20   \n",
       "4                             20                                30   \n",
       "5                             20                                40   \n",
       "6                             30                                20   \n",
       "7                             30                                30   \n",
       "8                             30                                40   \n",
       "\n",
       "  param_preprocessor__num__imputer__strategy  \\\n",
       "0                                       mean   \n",
       "1                                       mean   \n",
       "2                                       mean   \n",
       "3                                       mean   \n",
       "4                                       mean   \n",
       "5                                       mean   \n",
       "6                                       mean   \n",
       "7                                       mean   \n",
       "8                                       mean   \n",
       "\n",
       "                                              params  split0_test_score  \\\n",
       "0  {'my_classifier__max_depth': 10, 'my_classifie...           0.833962   \n",
       "1  {'my_classifier__max_depth': 10, 'my_classifie...           0.846969   \n",
       "2  {'my_classifier__max_depth': 10, 'my_classifie...           0.844357   \n",
       "3  {'my_classifier__max_depth': 20, 'my_classifie...           0.814612   \n",
       "4  {'my_classifier__max_depth': 20, 'my_classifie...           0.833531   \n",
       "5  {'my_classifier__max_depth': 20, 'my_classifie...           0.825646   \n",
       "6  {'my_classifier__max_depth': 30, 'my_classifie...           0.807738   \n",
       "7  {'my_classifier__max_depth': 30, 'my_classifie...           0.805031   \n",
       "8  {'my_classifier__max_depth': 30, 'my_classifie...           0.824908   \n",
       "\n",
       "   split1_test_score  split2_test_score  mean_test_score  std_test_score  \\\n",
       "0           0.832051           0.831330         0.832448        0.001111   \n",
       "1           0.821195           0.821227         0.829797        0.012142   \n",
       "2           0.841380           0.832254         0.839330        0.005149   \n",
       "3           0.807499           0.805658         0.809256        0.003861   \n",
       "4           0.821197           0.809081         0.821270        0.009981   \n",
       "5           0.831077           0.815418         0.824047        0.006492   \n",
       "6           0.802437           0.800414         0.803530        0.003088   \n",
       "7           0.808983           0.809094         0.807703        0.001890   \n",
       "8           0.824087           0.809675         0.819557        0.006995   \n",
       "\n",
       "   rank_test_score  \n",
       "0                2  \n",
       "1                3  \n",
       "2                1  \n",
       "3                7  \n",
       "4                5  \n",
       "5                4  \n",
       "6                9  \n",
       "7                8  \n",
       "8                6  "
      ]
     },
     "execution_count": 175,
     "metadata": {},
     "output_type": "execute_result"
    }
   ],
   "source": [
    "print('all the cv scores')\n",
    "pd.DataFrame(grid_search.cv_results_)"
   ]
  },
  {
   "cell_type": "markdown",
   "metadata": {},
   "source": [
    "# Trail 2: Random Forest Hyperparameter Tuning using RandomisedSearchCv"
   ]
  },
  {
   "cell_type": "code",
   "execution_count": 207,
   "metadata": {},
   "outputs": [
    {
     "name": "stdout",
     "output_type": "stream",
     "text": [
      "Fitting 3 folds for each of 10 candidates, totalling 30 fits\n"
     ]
    },
    {
     "name": "stderr",
     "output_type": "stream",
     "text": [
      "[Parallel(n_jobs=2)]: Using backend LokyBackend with 2 concurrent workers.\n",
      "[Parallel(n_jobs=2)]: Done  30 out of  30 | elapsed:    9.8s finished\n"
     ]
    },
    {
     "name": "stdout",
     "output_type": "stream",
     "text": [
      "best score 0.854628553063173\n",
      "best params {'preprocessor__num__imputer__strategy': 'mean', 'my_classifier__n_estimators': 80, 'my_classifier__min_samples_split': 2, 'my_classifier__min_samples_leaf': 2, 'my_classifier__max_features': 'auto', 'my_classifier__max_depth': 30, 'my_classifier__bootstrap': False}\n"
     ]
    }
   ],
   "source": [
    "import numpy as np\n",
    "from sklearn.compose import ColumnTransformer\n",
    "from sklearn.datasets import fetch_openml\n",
    "from sklearn.pipeline import Pipeline\n",
    "from sklearn.impute import SimpleImputer\n",
    "from sklearn.preprocessing import StandardScaler, OneHotEncoder\n",
    "from sklearn.linear_model import LogisticRegression\n",
    "from sklearn.ensemble import RandomForestClassifier\n",
    "from sklearn.model_selection import train_test_split\n",
    "from sklearn.model_selection import RandomizedSearchCV\n",
    "\n",
    "np.random.seed(0)\n",
    "\n",
    "transformer_numeric = Pipeline(\n",
    "    steps=[\n",
    "        ('imputer', SimpleImputer(strategy='mean')),\n",
    "        ('scaler', StandardScaler())]\n",
    ")\n",
    "\n",
    "transformer_categorical = Pipeline(\n",
    "    steps=[\n",
    "        ('imputer', SimpleImputer(missing_values=np.nan, strategy='most_frequent')),\n",
    "        ('onehot', OneHotEncoder(handle_unknown='ignore'))\n",
    "    ]\n",
    ")\n",
    "\n",
    "# Column transformer is used when we have features in our dataframe that need different preprossesing.\n",
    "preprocessor = ColumnTransformer(\n",
    "    transformers=[\n",
    "        ('num', transformer_numeric, features_numeric),\n",
    "        ('cat', transformer_categorical, features_categorical)\n",
    "    ]\n",
    ")\n",
    "\n",
    "# Pipeline is for chaining steps together.\n",
    "# So here, it will take the following things:\n",
    "# a) It will perform the prepossing steps and\n",
    "# b) It will also build the model.\n",
    "full_pipline = Pipeline(\n",
    "    steps=[\n",
    "        ('preprocessor', preprocessor),\n",
    "        ('my_classifier', \n",
    "           RandomForestClassifier(),\n",
    "        )\n",
    "    ]\n",
    ")\n",
    "\n",
    "\n",
    "# `__` denotes attribute \n",
    "# (e.g. my_classifier__n_estimators means the `n_estimators` param for `my_classifier`)\n",
    "param_grid = {\n",
    "    'preprocessor__num__imputer__strategy': ['mean'],\n",
    "    # 'my_classifier__n_estimators': [20, 30],  # this is for xgboost\n",
    "    # 'my_classifier__max_depth':[10, 20]       # this is for xgboost\n",
    "    'my_classifier__max_features': ['auto', 'sqrt'],\n",
    "    'my_classifier__n_estimators': [int(x) for x in np.linspace(start = 10, stop = 80, num = 10)],    # this is for random forest\n",
    "    'my_classifier__max_depth':[10, 20, 30],         # this is for random forest\n",
    "    'my_classifier__min_samples_split': [2, 5],\n",
    "    'my_classifier__min_samples_leaf': [1,2],\n",
    "    'my_classifier__bootstrap': [True, False]\n",
    "}\n",
    "\n",
    "# The cross-validation is goign to run cross validation on the entire pipeline. In another words,\n",
    "# we are not cross validating a model, we are cross validating a pipeline of steps that include \n",
    "# preprossing of data and model building.\n",
    "# This cross-validation will perform a 3 fold split on the data and then run the pipeline.\n",
    "random_search =  RandomizedSearchCV(\n",
    "    full_pipline, param_grid, cv=3, verbose=1, n_jobs=2)\n",
    "\n",
    "# random_search is a pipeline object, which when fit will run the preprocessign and the model building.\n",
    "random_search.fit(x, y)\n",
    "\n",
    "print('best score {}'.format(random_search.best_score_))\n",
    "print('best params {}'.format(random_search.best_params_))"
   ]
  },
  {
   "cell_type": "code",
   "execution_count": 10,
   "metadata": {},
   "outputs": [
    {
     "data": {
      "text/html": [
       "<div>\n",
       "<style scoped>\n",
       "    .dataframe tbody tr th:only-of-type {\n",
       "        vertical-align: middle;\n",
       "    }\n",
       "\n",
       "    .dataframe tbody tr th {\n",
       "        vertical-align: top;\n",
       "    }\n",
       "\n",
       "    .dataframe thead th {\n",
       "        text-align: right;\n",
       "    }\n",
       "</style>\n",
       "<table border=\"1\" class=\"dataframe\">\n",
       "  <thead>\n",
       "    <tr style=\"text-align: right;\">\n",
       "      <th></th>\n",
       "      <th>id</th>\n",
       "      <th>match</th>\n",
       "    </tr>\n",
       "  </thead>\n",
       "  <tbody>\n",
       "    <tr>\n",
       "      <th>0</th>\n",
       "      <td>934</td>\n",
       "      <td>0.087975</td>\n",
       "    </tr>\n",
       "    <tr>\n",
       "      <th>1</th>\n",
       "      <td>6539</td>\n",
       "      <td>0.292826</td>\n",
       "    </tr>\n",
       "    <tr>\n",
       "      <th>2</th>\n",
       "      <td>6757</td>\n",
       "      <td>0.176067</td>\n",
       "    </tr>\n",
       "    <tr>\n",
       "      <th>3</th>\n",
       "      <td>2275</td>\n",
       "      <td>0.135005</td>\n",
       "    </tr>\n",
       "    <tr>\n",
       "      <th>4</th>\n",
       "      <td>1052</td>\n",
       "      <td>0.098441</td>\n",
       "    </tr>\n",
       "    <tr>\n",
       "      <th>...</th>\n",
       "      <td>...</td>\n",
       "      <td>...</td>\n",
       "    </tr>\n",
       "    <tr>\n",
       "      <th>2464</th>\n",
       "      <td>7982</td>\n",
       "      <td>0.153384</td>\n",
       "    </tr>\n",
       "    <tr>\n",
       "      <th>2465</th>\n",
       "      <td>7299</td>\n",
       "      <td>0.257146</td>\n",
       "    </tr>\n",
       "    <tr>\n",
       "      <th>2466</th>\n",
       "      <td>1818</td>\n",
       "      <td>0.089325</td>\n",
       "    </tr>\n",
       "    <tr>\n",
       "      <th>2467</th>\n",
       "      <td>937</td>\n",
       "      <td>0.108337</td>\n",
       "    </tr>\n",
       "    <tr>\n",
       "      <th>2468</th>\n",
       "      <td>6691</td>\n",
       "      <td>0.066517</td>\n",
       "    </tr>\n",
       "  </tbody>\n",
       "</table>\n",
       "<p>2469 rows × 2 columns</p>\n",
       "</div>"
      ],
      "text/plain": [
       "        id     match\n",
       "0      934  0.087975\n",
       "1     6539  0.292826\n",
       "2     6757  0.176067\n",
       "3     2275  0.135005\n",
       "4     1052  0.098441\n",
       "...    ...       ...\n",
       "2464  7982  0.153384\n",
       "2465  7299  0.257146\n",
       "2466  1818  0.089325\n",
       "2467   937  0.108337\n",
       "2468  6691  0.066517\n",
       "\n",
       "[2469 rows x 2 columns]"
      ]
     },
     "execution_count": 10,
     "metadata": {},
     "output_type": "execute_result"
    }
   ],
   "source": [
    "# prepare submission:\n",
    "submission = pd.DataFrame()\n",
    "submission['id'] = data_test['id']\n",
    "submission['match'] = random_search.predict_proba(data_test)[:,1]\n",
    "submission.to_csv('sample_submission_walkthrough.csv', index=False)\n",
    "submission"
   ]
  },
  {
   "cell_type": "markdown",
   "metadata": {},
   "source": [
    "# Trial 3: Hyperparameter Optimization (BayesSearchCV)"
   ]
  },
  {
   "cell_type": "code",
   "execution_count": 11,
   "metadata": {},
   "outputs": [
    {
     "name": "stdout",
     "output_type": "stream",
     "text": [
      "Fitting 3 folds for each of 1 candidates, totalling 3 fits\n"
     ]
    },
    {
     "name": "stderr",
     "output_type": "stream",
     "text": [
      "[Parallel(n_jobs=1)]: Using backend SequentialBackend with 1 concurrent workers.\n",
      "[Parallel(n_jobs=1)]: Done   3 out of   3 | elapsed:   25.9s finished\n",
      "[Parallel(n_jobs=1)]: Using backend SequentialBackend with 1 concurrent workers.\n"
     ]
    },
    {
     "name": "stdout",
     "output_type": "stream",
     "text": [
      "Fitting 3 folds for each of 1 candidates, totalling 3 fits\n"
     ]
    },
    {
     "name": "stderr",
     "output_type": "stream",
     "text": [
      "[Parallel(n_jobs=1)]: Done   3 out of   3 | elapsed:   26.9s finished\n",
      "[Parallel(n_jobs=1)]: Using backend SequentialBackend with 1 concurrent workers.\n"
     ]
    },
    {
     "name": "stdout",
     "output_type": "stream",
     "text": [
      "Fitting 3 folds for each of 1 candidates, totalling 3 fits\n"
     ]
    },
    {
     "name": "stderr",
     "output_type": "stream",
     "text": [
      "[Parallel(n_jobs=1)]: Done   3 out of   3 | elapsed:   25.2s finished\n"
     ]
    },
    {
     "data": {
      "text/plain": [
       "BayesSearchCV(cv=3,\n",
       "              estimator=Pipeline(steps=[('preprocessor',\n",
       "                                         ColumnTransformer(transformers=[('num',\n",
       "                                                                          Pipeline(steps=[('imputer',\n",
       "                                                                                           SimpleImputer(strategy='median')),\n",
       "                                                                                          ('scaler',\n",
       "                                                                                           StandardScaler())]),\n",
       "                                                                          ['positin1',\n",
       "                                                                           'pid',\n",
       "                                                                           'int_corr',\n",
       "                                                                           'age_o',\n",
       "                                                                           'race_o',\n",
       "                                                                           'pf_o_att',\n",
       "                                                                           'pf_o_sin',\n",
       "                                                                           'pf_o_int',\n",
       "                                                                           'pf_o_fun',\n",
       "                                                                           'pf_o_amb',\n",
       "                                                                           'pf_o_sha',\n",
       "                                                                           'attr_o',\n",
       "                                                                           'sinc_o',\n",
       "                                                                           'intel_o',\n",
       "                                                                           'fun_o',\n",
       "                                                                           'amb_o',\n",
       "                                                                           'sh...\n",
       "              n_iter=3, random_state=0,\n",
       "              search_spaces={'my_svc__C': Real(low=1e-06, high=1000000.0, prior='log-uniform', transform='identity'),\n",
       "                             'my_svc__degree': Integer(low=1, high=8, prior='uniform', transform='identity'),\n",
       "                             'my_svc__gamma': Real(low=1e-06, high=10.0, prior='log-uniform', transform='identity'),\n",
       "                             'my_svc__kernel': Categorical(categories=('linear', 'poly', 'rbf'), prior=None)},\n",
       "              verbose=1)"
      ]
     },
     "execution_count": 11,
     "metadata": {},
     "output_type": "execute_result"
    }
   ],
   "source": [
    "from skopt import BayesSearchCV\n",
    "from skopt.space import Real, Categorical, Integer\n",
    "from sklearn.svm import SVC\n",
    "\n",
    "# SVC has a class_weight attribute for unbalanced data\n",
    "SVC_pipline = Pipeline(\n",
    "    steps=[\n",
    "        ('preprocessor', preprocessor),\n",
    "        ('my_svc', SVC(class_weight='balanced'))\n",
    "    ]\n",
    ")\n",
    "\n",
    "# define ranges for bayes search\n",
    "bayes_search = BayesSearchCV(\n",
    "    SVC_pipline,\n",
    "    {\n",
    "        'my_svc__C': Real(1e-6, 1e+6, prior='log-uniform'),\n",
    "        'my_svc__gamma': Real(1e-6, 1e+1, prior='log-uniform'),\n",
    "        'my_svc__degree': Integer(1,8),\n",
    "        'my_svc__kernel': Categorical(['linear', 'poly', 'rbf']),\n",
    "    },\n",
    "    n_iter=3,\n",
    "    random_state=0,\n",
    "    verbose=1,\n",
    "    cv=3,\n",
    ")\n",
    "\n",
    "bayes_search.fit(x, y)"
   ]
  },
  {
   "cell_type": "code",
   "execution_count": 12,
   "metadata": {},
   "outputs": [
    {
     "name": "stdout",
     "output_type": "stream",
     "text": [
      "best score 0.8307666271788797\n",
      "best score OrderedDict([('my_svc__C', 0.0012602593949011189), ('my_svc__degree', 8), ('my_svc__gamma', 2.285959941576884), ('my_svc__kernel', 'poly')])\n"
     ]
    }
   ],
   "source": [
    "print('best score {}'.format(bayes_search.best_score_))\n",
    "print('best score {}'.format(bayes_search.best_params_))"
   ]
  },
  {
   "cell_type": "code",
   "execution_count": 13,
   "metadata": {},
   "outputs": [
    {
     "name": "stdout",
     "output_type": "stream",
     "text": [
      "all the cv scores\n"
     ]
    },
    {
     "data": {
      "text/html": [
       "<div>\n",
       "<style scoped>\n",
       "    .dataframe tbody tr th:only-of-type {\n",
       "        vertical-align: middle;\n",
       "    }\n",
       "\n",
       "    .dataframe tbody tr th {\n",
       "        vertical-align: top;\n",
       "    }\n",
       "\n",
       "    .dataframe thead th {\n",
       "        text-align: right;\n",
       "    }\n",
       "</style>\n",
       "<table border=\"1\" class=\"dataframe\">\n",
       "  <thead>\n",
       "    <tr style=\"text-align: right;\">\n",
       "      <th></th>\n",
       "      <th>split0_test_score</th>\n",
       "      <th>split1_test_score</th>\n",
       "      <th>split2_test_score</th>\n",
       "      <th>mean_test_score</th>\n",
       "      <th>std_test_score</th>\n",
       "      <th>rank_test_score</th>\n",
       "      <th>mean_fit_time</th>\n",
       "      <th>std_fit_time</th>\n",
       "      <th>mean_score_time</th>\n",
       "      <th>std_score_time</th>\n",
       "      <th>param_my_svc__C</th>\n",
       "      <th>param_my_svc__degree</th>\n",
       "      <th>param_my_svc__gamma</th>\n",
       "      <th>param_my_svc__kernel</th>\n",
       "      <th>params</th>\n",
       "    </tr>\n",
       "  </thead>\n",
       "  <tbody>\n",
       "    <tr>\n",
       "      <th>0</th>\n",
       "      <td>0.827411</td>\n",
       "      <td>0.824873</td>\n",
       "      <td>0.826816</td>\n",
       "      <td>0.826367</td>\n",
       "      <td>0.001084</td>\n",
       "      <td>2</td>\n",
       "      <td>6.617986</td>\n",
       "      <td>1.034061</td>\n",
       "      <td>2.007205</td>\n",
       "      <td>0.061935</td>\n",
       "      <td>2.352719</td>\n",
       "      <td>6</td>\n",
       "      <td>0.022854</td>\n",
       "      <td>poly</td>\n",
       "      <td>{'my_svc__C': 2.352718564818733, 'my_svc__degr...</td>\n",
       "    </tr>\n",
       "    <tr>\n",
       "      <th>1</th>\n",
       "      <td>0.835025</td>\n",
       "      <td>0.828426</td>\n",
       "      <td>0.828847</td>\n",
       "      <td>0.830767</td>\n",
       "      <td>0.003017</td>\n",
       "      <td>1</td>\n",
       "      <td>6.920570</td>\n",
       "      <td>0.801309</td>\n",
       "      <td>2.038833</td>\n",
       "      <td>0.075988</td>\n",
       "      <td>0.001260</td>\n",
       "      <td>8</td>\n",
       "      <td>2.285960</td>\n",
       "      <td>poly</td>\n",
       "      <td>{'my_svc__C': 0.0012602593949011189, 'my_svc__...</td>\n",
       "    </tr>\n",
       "    <tr>\n",
       "      <th>2</th>\n",
       "      <td>0.793909</td>\n",
       "      <td>0.785279</td>\n",
       "      <td>0.790757</td>\n",
       "      <td>0.789981</td>\n",
       "      <td>0.003566</td>\n",
       "      <td>3</td>\n",
       "      <td>7.338736</td>\n",
       "      <td>0.251168</td>\n",
       "      <td>1.048019</td>\n",
       "      <td>0.019316</td>\n",
       "      <td>2.209535</td>\n",
       "      <td>1</td>\n",
       "      <td>0.000249</td>\n",
       "      <td>linear</td>\n",
       "      <td>{'my_svc__C': 2.2095350994035026, 'my_svc__deg...</td>\n",
       "    </tr>\n",
       "  </tbody>\n",
       "</table>\n",
       "</div>"
      ],
      "text/plain": [
       "   split0_test_score  split1_test_score  split2_test_score  mean_test_score  \\\n",
       "0           0.827411           0.824873           0.826816         0.826367   \n",
       "1           0.835025           0.828426           0.828847         0.830767   \n",
       "2           0.793909           0.785279           0.790757         0.789981   \n",
       "\n",
       "   std_test_score  rank_test_score  mean_fit_time  std_fit_time  \\\n",
       "0        0.001084                2       6.617986      1.034061   \n",
       "1        0.003017                1       6.920570      0.801309   \n",
       "2        0.003566                3       7.338736      0.251168   \n",
       "\n",
       "   mean_score_time  std_score_time  param_my_svc__C  param_my_svc__degree  \\\n",
       "0         2.007205        0.061935         2.352719                     6   \n",
       "1         2.038833        0.075988         0.001260                     8   \n",
       "2         1.048019        0.019316         2.209535                     1   \n",
       "\n",
       "   param_my_svc__gamma param_my_svc__kernel  \\\n",
       "0             0.022854                 poly   \n",
       "1             2.285960                 poly   \n",
       "2             0.000249               linear   \n",
       "\n",
       "                                              params  \n",
       "0  {'my_svc__C': 2.352718564818733, 'my_svc__degr...  \n",
       "1  {'my_svc__C': 0.0012602593949011189, 'my_svc__...  \n",
       "2  {'my_svc__C': 2.2095350994035026, 'my_svc__deg...  "
      ]
     },
     "execution_count": 13,
     "metadata": {},
     "output_type": "execute_result"
    }
   ],
   "source": [
    "print('all the cv scores')\n",
    "pd.DataFrame(bayes_search.cv_results_)"
   ]
  },
  {
   "cell_type": "markdown",
   "metadata": {},
   "source": [
    "# Trail 4: XGBoost Hyperparameter Optimization using RandomSearchCV"
   ]
  },
  {
   "cell_type": "code",
   "execution_count": 219,
   "metadata": {},
   "outputs": [
    {
     "name": "stdout",
     "output_type": "stream",
     "text": [
      "Fitting 3 folds for each of 10 candidates, totalling 30 fits\n"
     ]
    },
    {
     "name": "stderr",
     "output_type": "stream",
     "text": [
      "[Parallel(n_jobs=2)]: Using backend LokyBackend with 2 concurrent workers.\n",
      "[Parallel(n_jobs=2)]: Done  30 out of  30 | elapsed:  2.7min finished\n",
      "/home/rabajaj/.local/lib/python3.9/site-packages/xgboost/sklearn.py:1146: UserWarning: The use of label encoder in XGBClassifier is deprecated and will be removed in a future release. To remove this warning, do the following: 1) Pass option use_label_encoder=False when constructing XGBClassifier object; and 2) Encode your labels (y) as integers starting with 0, i.e. 0, 1, 2, ..., [num_class - 1].\n",
      "  warnings.warn(label_encoder_deprecation_msg, UserWarning)\n"
     ]
    },
    {
     "name": "stdout",
     "output_type": "stream",
     "text": [
      "[18:03:42] WARNING: ../src/learner.cc:1095: Starting in XGBoost 1.3.0, the default evaluation metric used with the objective 'binary:logistic' was changed from 'error' to 'logloss'. Explicitly set eval_metric if you'd like to restore the old behavior.\n",
      "best score 0.8700291059647892\n",
      "best params {'preprocessor__num__imputer__strategy': 'mean', 'my_classifier__min_child_weight': 7, 'my_classifier__max_depth': 3, 'my_classifier__learning_rate': 0.15, 'my_classifier__gamma': 0.4, 'my_classifier__colsample_bytree': 0.3}\n"
     ]
    }
   ],
   "source": [
    "import numpy as np\n",
    "from sklearn.compose import ColumnTransformer\n",
    "from sklearn.datasets import fetch_openml\n",
    "from sklearn.pipeline import Pipeline\n",
    "from sklearn.impute import SimpleImputer\n",
    "from sklearn.preprocessing import StandardScaler, OneHotEncoder\n",
    "from sklearn.linear_model import LogisticRegression\n",
    "from sklearn.ensemble import RandomForestClassifier\n",
    "from sklearn.model_selection import train_test_split\n",
    "from sklearn.model_selection import RandomizedSearchCV\n",
    "from xgboost.sklearn import XGBClassifier\n",
    "\n",
    "np.random.seed(0)\n",
    "\n",
    "transformer_numeric = Pipeline(\n",
    "    steps=[\n",
    "        ('imputer', SimpleImputer(strategy='mean')),\n",
    "        ('scaler', StandardScaler())]\n",
    ")\n",
    "\n",
    "transformer_categorical = Pipeline(\n",
    "    steps=[\n",
    "        ('imputer', SimpleImputer(missing_values=np.nan, strategy='most_frequent')),\n",
    "        ('onehot', OneHotEncoder(handle_unknown='ignore'))\n",
    "    ]\n",
    ")\n",
    "\n",
    "# Column transformer is used when we have features in our dataframe that need different preprossesing.\n",
    "preprocessor = ColumnTransformer(\n",
    "    transformers=[\n",
    "        ('num', transformer_numeric, features_numeric),\n",
    "        ('cat', transformer_categorical, features_categorical)\n",
    "    ]\n",
    ")\n",
    "\n",
    "# Pipeline is for chaining steps together.\n",
    "# So here, it will take the following things:\n",
    "# a) It will perform the prepossing steps and\n",
    "# b) It will also build the model.\n",
    "full_pipline = Pipeline(\n",
    "    steps=[\n",
    "        ('preprocessor', preprocessor),\n",
    "        ('my_classifier', \n",
    "           XGBClassifier(objective='binary:logistic', seed=1),\n",
    "        )\n",
    "    ]\n",
    ")\n",
    "\n",
    "\n",
    "# `__` denotes attribute \n",
    "# (e.g. my_classifier__n_estimators means the `n_estimators` param for `my_classifier`\n",
    "#  which is our xgb)\n",
    "param_grid = {\n",
    "    'preprocessor__num__imputer__strategy': ['mean'],\n",
    "    'my_classifier__learning_rate': [0.05, 0.10, 0.15, 0.20, 0.25, 0.30 ],\n",
    "    'my_classifier__max_depth': [ 3, 4, 5, 6, 8, 10, 12, 15],    # this is for random forest\n",
    "    'my_classifier__min_child_weight':[ 1, 3, 5, 7 ],         # this is for random forest\n",
    "    'my_classifier__gamma': [ 0.0, 0.1, 0.2 , 0.3, 0.4 ],\n",
    "    'my_classifier__colsample_bytree': [ 0.3, 0.4, 0.5 , 0.7 ],\n",
    "}\n",
    "\n",
    "# The cross-validation is goign to run cross validation on the entire pipeline. In another words,\n",
    "# we are not cross validating a model, we are cross validating a pipeline of steps that include \n",
    "# preprossing of data and model building.\n",
    "# This cross-validation will perform a 3 fold split on the data and then run the pipeline.\n",
    "random_search =  RandomizedSearchCV(\n",
    "    full_pipline, param_grid, cv=3, verbose=1, n_jobs=2)\n",
    "\n",
    "# random_search is a pipeline object, which when fit will run the preprocessign and the model building.\n",
    "random_search.fit(x, y)\n",
    "\n",
    "print('best score {}'.format(random_search.best_score_))\n",
    "print('best params {}'.format(random_search.best_params_))"
   ]
  },
  {
   "cell_type": "code",
   "execution_count": 221,
   "metadata": {},
   "outputs": [
    {
     "data": {
      "text/html": [
       "<div>\n",
       "<style scoped>\n",
       "    .dataframe tbody tr th:only-of-type {\n",
       "        vertical-align: middle;\n",
       "    }\n",
       "\n",
       "    .dataframe tbody tr th {\n",
       "        vertical-align: top;\n",
       "    }\n",
       "\n",
       "    .dataframe thead th {\n",
       "        text-align: right;\n",
       "    }\n",
       "</style>\n",
       "<table border=\"1\" class=\"dataframe\">\n",
       "  <thead>\n",
       "    <tr style=\"text-align: right;\">\n",
       "      <th></th>\n",
       "      <th>id</th>\n",
       "      <th>match</th>\n",
       "    </tr>\n",
       "  </thead>\n",
       "  <tbody>\n",
       "    <tr>\n",
       "      <th>0</th>\n",
       "      <td>934</td>\n",
       "      <td>0.055110</td>\n",
       "    </tr>\n",
       "    <tr>\n",
       "      <th>1</th>\n",
       "      <td>6539</td>\n",
       "      <td>0.333202</td>\n",
       "    </tr>\n",
       "    <tr>\n",
       "      <th>2</th>\n",
       "      <td>6757</td>\n",
       "      <td>0.283697</td>\n",
       "    </tr>\n",
       "    <tr>\n",
       "      <th>3</th>\n",
       "      <td>2275</td>\n",
       "      <td>0.034072</td>\n",
       "    </tr>\n",
       "    <tr>\n",
       "      <th>4</th>\n",
       "      <td>1052</td>\n",
       "      <td>0.011326</td>\n",
       "    </tr>\n",
       "    <tr>\n",
       "      <th>...</th>\n",
       "      <td>...</td>\n",
       "      <td>...</td>\n",
       "    </tr>\n",
       "    <tr>\n",
       "      <th>2464</th>\n",
       "      <td>7982</td>\n",
       "      <td>0.157508</td>\n",
       "    </tr>\n",
       "    <tr>\n",
       "      <th>2465</th>\n",
       "      <td>7299</td>\n",
       "      <td>0.457596</td>\n",
       "    </tr>\n",
       "    <tr>\n",
       "      <th>2466</th>\n",
       "      <td>1818</td>\n",
       "      <td>0.068127</td>\n",
       "    </tr>\n",
       "    <tr>\n",
       "      <th>2467</th>\n",
       "      <td>937</td>\n",
       "      <td>0.040846</td>\n",
       "    </tr>\n",
       "    <tr>\n",
       "      <th>2468</th>\n",
       "      <td>6691</td>\n",
       "      <td>0.019696</td>\n",
       "    </tr>\n",
       "  </tbody>\n",
       "</table>\n",
       "<p>2469 rows × 2 columns</p>\n",
       "</div>"
      ],
      "text/plain": [
       "        id     match\n",
       "0      934  0.055110\n",
       "1     6539  0.333202\n",
       "2     6757  0.283697\n",
       "3     2275  0.034072\n",
       "4     1052  0.011326\n",
       "...    ...       ...\n",
       "2464  7982  0.157508\n",
       "2465  7299  0.457596\n",
       "2466  1818  0.068127\n",
       "2467   937  0.040846\n",
       "2468  6691  0.019696\n",
       "\n",
       "[2469 rows x 2 columns]"
      ]
     },
     "execution_count": 221,
     "metadata": {},
     "output_type": "execute_result"
    }
   ],
   "source": [
    "# prepare submission:\n",
    "submission = pd.DataFrame()\n",
    "submission['id'] = data_test['id']\n",
    "submission['match'] = random_search.predict_proba(data_test)[:,1]\n",
    "submission.to_csv('sample_submission_walkthrough.csv', index=False)\n",
    "submission"
   ]
  },
  {
   "cell_type": "markdown",
   "metadata": {},
   "source": [
    "# Trail 5 : Tuning the imputers for numeric and categorical data (trying out few permutations and combinations)"
   ]
  },
  {
   "cell_type": "markdown",
   "metadata": {},
   "source": [
    "#### 5.1 Using KNNImputer for numberic data"
   ]
  },
  {
   "cell_type": "code",
   "execution_count": 227,
   "metadata": {},
   "outputs": [
    {
     "name": "stdout",
     "output_type": "stream",
     "text": [
      "Fitting 3 folds for each of 10 candidates, totalling 30 fits\n"
     ]
    },
    {
     "name": "stderr",
     "output_type": "stream",
     "text": [
      "[Parallel(n_jobs=2)]: Using backend LokyBackend with 2 concurrent workers.\n",
      "[Parallel(n_jobs=2)]: Done  30 out of  30 | elapsed:  7.2min finished\n",
      "/home/rabajaj/.local/lib/python3.9/site-packages/xgboost/sklearn.py:1146: UserWarning: The use of label encoder in XGBClassifier is deprecated and will be removed in a future release. To remove this warning, do the following: 1) Pass option use_label_encoder=False when constructing XGBClassifier object; and 2) Encode your labels (y) as integers starting with 0, i.e. 0, 1, 2, ..., [num_class - 1].\n",
      "  warnings.warn(label_encoder_deprecation_msg, UserWarning)\n"
     ]
    },
    {
     "name": "stdout",
     "output_type": "stream",
     "text": [
      "[17:22:37] WARNING: ../src/learner.cc:1095: Starting in XGBoost 1.3.0, the default evaluation metric used with the objective 'binary:logistic' was changed from 'error' to 'logloss'. Explicitly set eval_metric if you'd like to restore the old behavior.\n",
      "best score 0.8656284078341193\n",
      "best params {'my_classifier__min_child_weight': 3, 'my_classifier__max_depth': 5, 'my_classifier__learning_rate': 0.15, 'my_classifier__gamma': 0.0, 'my_classifier__colsample_bytree': 0.4}\n"
     ]
    }
   ],
   "source": [
    "import numpy as np\n",
    "from sklearn.compose import ColumnTransformer\n",
    "from sklearn.datasets import fetch_openml\n",
    "from sklearn.pipeline import Pipeline\n",
    "from sklearn.impute import SimpleImputer\n",
    "from sklearn.preprocessing import StandardScaler, OneHotEncoder\n",
    "from sklearn.linear_model import LogisticRegression\n",
    "from sklearn.ensemble import RandomForestClassifier\n",
    "from sklearn.model_selection import train_test_split\n",
    "from sklearn.model_selection import RandomizedSearchCV\n",
    "from xgboost.sklearn import XGBClassifier\n",
    "from sklearn.impute import KNNImputer\n",
    "\n",
    "np.random.seed(0)\n",
    "\n",
    "transformer_numeric = Pipeline(\n",
    "    steps=[\n",
    "        ('imputer', KNNImputer(n_neighbors=3)),\n",
    "        ('scaler', StandardScaler())]\n",
    ")\n",
    "\n",
    "transformer_categorical = Pipeline(\n",
    "    steps=[\n",
    "        ('imputer', SimpleImputer(missing_values=np.nan, strategy='most_frequent')),\n",
    "        ('onehot', OneHotEncoder(handle_unknown='ignore', sparse='False'))\n",
    "    ]\n",
    ")\n",
    "\n",
    "# Column transformer is used when we have features in our dataframe that need different preprossesing.\n",
    "preprocessor = ColumnTransformer(\n",
    "    transformers=[\n",
    "        ('num', transformer_numeric, features_numeric),\n",
    "        ('cat', transformer_categorical, features_categorical)\n",
    "    ]\n",
    ")\n",
    "\n",
    "# Pipeline is for chaining steps together.\n",
    "# So here, it will take the following things:\n",
    "# a) It will perform the prepossing steps and\n",
    "# b) It will also build the model.\n",
    "full_pipline = Pipeline(\n",
    "    steps=[\n",
    "        ('preprocessor', preprocessor),\n",
    "        ('my_classifier', \n",
    "           XGBClassifier(objective='binary:logistic', seed=1),\n",
    "        )\n",
    "    ]\n",
    ")\n",
    "\n",
    "# `__` denotes attribute \n",
    "# (e.g. my_classifier__n_estimators means the `n_estimators` param for `my_classifier`\n",
    "#  which is our xgb)\n",
    "param_grid = {\n",
    "    'my_classifier__learning_rate': [0.05, 0.10, 0.15, 0.20, 0.25, 0.30 ],\n",
    "    'my_classifier__max_depth': [ 3, 4, 5, 6, 8, 10, 12, 15],\n",
    "    'my_classifier__min_child_weight':[ 1, 3, 5, 7 ],\n",
    "    'my_classifier__gamma': [ 0.0, 0.1, 0.2 , 0.3, 0.4 ],\n",
    "    'my_classifier__colsample_bytree': [ 0.3, 0.4, 0.5 , 0.7 ],\n",
    "}\n",
    "\n",
    "# The cross-validation is goign to run cross validation on the entire pipeline. In another words,\n",
    "# we are not cross validating a model, we are cross validating a pipeline of steps that include \n",
    "# preprossing of data and model building.\n",
    "# This cross-validation will perform a 3 fold split on the data and then run the pipeline.\n",
    "random_search =  RandomizedSearchCV(\n",
    "    full_pipline, param_grid, cv=3, verbose=1, n_jobs=2)\n",
    "\n",
    "# random_search is a pipeline object, which when fit will run the preprocessign and the model building. \n",
    "random_search.fit(x, y)\n",
    "\n",
    "print('best score {}'.format(random_search.best_score_))\n",
    "print('best params {}'.format(random_search.best_params_))"
   ]
  },
  {
   "cell_type": "markdown",
   "metadata": {},
   "source": [
    "#### 5.2 check for best preprocessor__num__imputer__strategy"
   ]
  },
  {
   "cell_type": "code",
   "execution_count": 238,
   "metadata": {},
   "outputs": [
    {
     "name": "stdout",
     "output_type": "stream",
     "text": [
      "Fitting 3 folds for each of 10 candidates, totalling 30 fits\n"
     ]
    },
    {
     "name": "stderr",
     "output_type": "stream",
     "text": [
      "[Parallel(n_jobs=2)]: Using backend LokyBackend with 2 concurrent workers.\n",
      "[Parallel(n_jobs=2)]: Done  30 out of  30 | elapsed:  2.7min finished\n",
      "/home/rabajaj/.local/lib/python3.9/site-packages/xgboost/sklearn.py:1146: UserWarning: The use of label encoder in XGBClassifier is deprecated and will be removed in a future release. To remove this warning, do the following: 1) Pass option use_label_encoder=False when constructing XGBClassifier object; and 2) Encode your labels (y) as integers starting with 0, i.e. 0, 1, 2, ..., [num_class - 1].\n",
      "  warnings.warn(label_encoder_deprecation_msg, UserWarning)\n"
     ]
    },
    {
     "name": "stdout",
     "output_type": "stream",
     "text": [
      "[17:58:21] WARNING: ../src/learner.cc:1095: Starting in XGBoost 1.3.0, the default evaluation metric used with the objective 'binary:logistic' was changed from 'error' to 'logloss'. Explicitly set eval_metric if you'd like to restore the old behavior.\n",
      "best score 0.8678287568994544\n",
      "best params {'preprocessor__num__imputer__strategy': 'median', 'my_classifier__min_child_weight': 5, 'my_classifier__max_depth': 12, 'my_classifier__learning_rate': 0.1, 'my_classifier__gamma': 0.4, 'my_classifier__colsample_bytree': 0.3}\n"
     ]
    }
   ],
   "source": [
    "import numpy as np\n",
    "from sklearn.compose import ColumnTransformer\n",
    "from sklearn.datasets import fetch_openml\n",
    "from sklearn.pipeline import Pipeline\n",
    "from sklearn.impute import SimpleImputer\n",
    "from sklearn.preprocessing import StandardScaler, OneHotEncoder\n",
    "from sklearn.linear_model import LogisticRegression\n",
    "from sklearn.ensemble import RandomForestClassifier\n",
    "from sklearn.model_selection import train_test_split\n",
    "from sklearn.model_selection import RandomizedSearchCV\n",
    "from xgboost.sklearn import XGBClassifier\n",
    "\n",
    "np.random.seed(0)\n",
    "\n",
    "transformer_numeric = Pipeline(\n",
    "    steps=[\n",
    "        ('imputer', SimpleImputer(strategy='mean')),\n",
    "        ('scaler', StandardScaler())]\n",
    ")\n",
    "\n",
    "transformer_categorical = Pipeline(\n",
    "    steps=[\n",
    "        ('imputer', SimpleImputer(missing_values=np.nan, strategy='most_frequent')),\n",
    "        ('onehot', OneHotEncoder(handle_unknown='ignore'))\n",
    "    ]\n",
    ")\n",
    "\n",
    "# Column transformer is used when we have features in our dataframe that need different preprossesing.\n",
    "preprocessor = ColumnTransformer(\n",
    "    transformers=[\n",
    "        ('num', transformer_numeric, features_numeric),\n",
    "        ('cat', transformer_categorical, features_categorical)\n",
    "    ]\n",
    ")\n",
    "\n",
    "# Pipeline is for chaining steps together.\n",
    "# So here, it will take the following things:\n",
    "# a) It will perform the prepossing steps and\n",
    "# b) It will also build the model.\n",
    "full_pipline = Pipeline(\n",
    "    steps=[\n",
    "        ('preprocessor', preprocessor),\n",
    "        ('my_classifier', \n",
    "           XGBClassifier(objective='binary:logistic', seed=1),\n",
    "        )\n",
    "    ]\n",
    ")\n",
    "\n",
    "\n",
    "# `__` denotes attribute \n",
    "# (e.g. my_classifier__n_estimators means the `n_estimators` param for `my_classifier`\n",
    "#  which is our xgb)\n",
    "param_grid = {\n",
    "    'preprocessor__num__imputer__strategy': ['mean', 'median'],\n",
    "    'my_classifier__learning_rate': [0.05, 0.10, 0.15, 0.20, 0.25, 0.30 ],\n",
    "    'my_classifier__max_depth': [ 3, 4, 5, 6, 8, 10, 12, 15],    # this is for random forest\n",
    "    'my_classifier__min_child_weight':[ 1, 3, 5, 7 ],         # this is for random forest\n",
    "    'my_classifier__gamma': [ 0.0, 0.1, 0.2 , 0.3, 0.4 ],\n",
    "    'my_classifier__colsample_bytree': [ 0.3, 0.4, 0.5 , 0.7 ],\n",
    "}\n",
    "\n",
    "# The cross-validation is goign to run cross validation on the entire pipeline. In another words,\n",
    "# we are not cross validating a model, we are cross validating a pipeline of steps that include \n",
    "# preprossing of data and model building.\n",
    "# This cross-validation will perform a 3 fold split on the data and then run the pipeline.\n",
    "random_search =  RandomizedSearchCV(\n",
    "    full_pipline, param_grid, cv=3, verbose=1, n_jobs=2)\n",
    "\n",
    "# random_search is a pipeline object, which when fit will run the preprocessign and the model building.\n",
    "random_search.fit(x, y)\n",
    "\n",
    "print('best score {}'.format(random_search.best_score_))\n",
    "print('best params {}'.format(random_search.best_params_))"
   ]
  },
  {
   "cell_type": "markdown",
   "metadata": {},
   "source": [
    "# Trial 6: Logistic Regression Hyperparameter Optimization using RandomSearchCV"
   ]
  },
  {
   "cell_type": "code",
   "execution_count": 254,
   "metadata": {},
   "outputs": [
    {
     "name": "stdout",
     "output_type": "stream",
     "text": [
      "Fitting 3 folds for each of 10 candidates, totalling 30 fits\n"
     ]
    },
    {
     "name": "stderr",
     "output_type": "stream",
     "text": [
      "[Parallel(n_jobs=2)]: Using backend LokyBackend with 2 concurrent workers.\n",
      "[Parallel(n_jobs=2)]: Done  30 out of  30 | elapsed:   13.9s finished\n"
     ]
    },
    {
     "name": "stdout",
     "output_type": "stream",
     "text": [
      "best score 0.8492125405717555\n",
      "best params {'preprocessor__num__imputer__strategy': 'median', 'my_classifier__solver': 'liblinear', 'my_classifier__penalty': 'l2', 'my_classifier__C': 4.281332398719396}\n"
     ]
    }
   ],
   "source": [
    "import numpy as np\n",
    "from sklearn.compose import ColumnTransformer\n",
    "from sklearn.datasets import fetch_openml\n",
    "from sklearn.pipeline import Pipeline\n",
    "from sklearn.impute import SimpleImputer\n",
    "from sklearn.preprocessing import StandardScaler, OneHotEncoder\n",
    "from sklearn.linear_model import LogisticRegression\n",
    "from sklearn.ensemble import RandomForestClassifier\n",
    "from sklearn.model_selection import train_test_split\n",
    "from sklearn.model_selection import RandomizedSearchCV\n",
    "from xgboost.sklearn import XGBClassifier\n",
    "from sklearn.linear_model  import LogisticRegression\n",
    "\n",
    "np.random.seed(0)\n",
    "\n",
    "transformer_numeric = Pipeline(\n",
    "    steps=[\n",
    "        ('imputer', SimpleImputer(strategy='mean')),\n",
    "        ('scaler', StandardScaler())]\n",
    ")\n",
    "\n",
    "transformer_categorical = Pipeline(\n",
    "    steps=[\n",
    "        ('imputer', SimpleImputer(missing_values=np.nan, strategy='most_frequent')),\n",
    "        ('onehot', OneHotEncoder(handle_unknown='ignore'))\n",
    "    ]\n",
    ")\n",
    "\n",
    "# Column transformer is used when we have features in our dataframe that need different preprossesing.\n",
    "preprocessor = ColumnTransformer(\n",
    "    transformers=[\n",
    "        ('num', transformer_numeric, features_numeric),\n",
    "        ('cat', transformer_categorical, features_categorical)\n",
    "    ]\n",
    ")\n",
    "\n",
    "# Pipeline is for chaining steps together.\n",
    "# So here, it will take the following things:\n",
    "# a) It will perform the prepossing steps and\n",
    "# b) It will also build the model.\n",
    "full_pipline = Pipeline(\n",
    "    steps=[\n",
    "        ('preprocessor', preprocessor),\n",
    "        ('my_classifier', \n",
    "          LogisticRegression(),\n",
    "        )\n",
    "    ]\n",
    ")\n",
    "\n",
    "\n",
    "# `__` denotes attribute \n",
    "# (e.g. my_classifier__n_estimators means the `n_estimators` param for `my_classifier`\n",
    "#  which is our xgb)\n",
    "param_grid = {\n",
    "    'preprocessor__num__imputer__strategy': ['mean', 'median'],\n",
    "    'my_classifier__penalty' : ['l2', 'none'],\n",
    "    'my_classifier__C' : np.logspace(-4, 4, 20),\n",
    "    'my_classifier__solver' : ['liblinear'],\n",
    "}\n",
    "\n",
    "# The cross-validation is goign to run cross validation on the entire pipeline. In another words,\n",
    "# we are not cross validating a model, we are cross validating a pipeline of steps that include \n",
    "# preprossing of data and model building.\n",
    "# This cross-validation will perform a 3 fold split on the data and then run the pipeline.\n",
    "random_search =  RandomizedSearchCV(\n",
    "    full_pipline, param_grid, cv=3, verbose=1, n_jobs=2)\n",
    "\n",
    "# random_search is a pipeline object, which when fit will run the preprocessign and the model building.\n",
    "random_search.fit(x, y)\n",
    "\n",
    "print('best score {}'.format(random_search.best_score_))\n",
    "print('best params {}'.format(random_search.best_params_))"
   ]
  }
 ],
 "metadata": {
  "kernelspec": {
   "display_name": "Python 3",
   "language": "python",
   "name": "python3"
  },
  "language_info": {
   "codemirror_mode": {
    "name": "ipython",
    "version": 3
   },
   "file_extension": ".py",
   "mimetype": "text/x-python",
   "name": "python",
   "nbconvert_exporter": "python",
   "pygments_lexer": "ipython3",
   "version": "3.9.0"
  }
 },
 "nbformat": 4,
 "nbformat_minor": 4
}
